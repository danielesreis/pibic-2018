{
 "cells": [
  {
   "cell_type": "code",
   "execution_count": 2,
   "metadata": {},
   "outputs": [],
   "source": [
    "import pandas as pd\n",
    "import numpy as np\n",
    "import math\n",
    "from sklearn.cross_decomposition import PLSRegression"
   ]
  },
  {
   "cell_type": "code",
   "execution_count": 5,
   "metadata": {},
   "outputs": [],
   "source": [
    "X = np.array([[1, 2, 3, 4, 5, 6], [7, 8, 9, 10, 11, 12], [13, 14, 15, 16, 17, 18]])\n",
    "Y = np.array([1, 0, 1])"
   ]
  },
  {
   "cell_type": "code",
   "execution_count": 8,
   "metadata": {},
   "outputs": [],
   "source": [
    "pls2 = PLSRegression(n_components=2, max_iter=10)"
   ]
  },
  {
   "cell_type": "code",
   "execution_count": 13,
   "metadata": {},
   "outputs": [
    {
     "name": "stderr",
     "output_type": "stream",
     "text": [
      "/home/danielesreis/.local/lib/python3.6/site-packages/sklearn/cross_decomposition/pls_.py:314: RuntimeWarning: invalid value encountered in true_divide\n",
      "  y_scores = np.dot(Yk, y_weights) / y_ss\n",
      "/home/danielesreis/.local/lib/python3.6/site-packages/sklearn/cross_decomposition/pls_.py:67: RuntimeWarning: invalid value encountered in true_divide\n",
      "  y_weights = np.dot(Y.T, x_score) / np.dot(x_score.T, x_score)\n",
      "/home/danielesreis/.local/lib/python3.6/site-packages/sklearn/cross_decomposition/pls_.py:317: UserWarning: X scores are null at iteration 1\n",
      "  warnings.warn('X scores are null at iteration %s' % k)\n"
     ]
    }
   ],
   "source": [
    "pls = pls2.fit(X, Y)"
   ]
  },
  {
   "cell_type": "code",
   "execution_count": 15,
   "metadata": {},
   "outputs": [
    {
     "data": {
      "text/plain": [
       "array([[-1.73938769,  0.        ],\n",
       "       [ 0.        ,  0.        ],\n",
       "       [ 1.73938769,  0.        ]])"
      ]
     },
     "execution_count": 15,
     "metadata": {},
     "output_type": "execute_result"
    }
   ],
   "source": [
    "pls.x_scores_"
   ]
  },
  {
   "cell_type": "code",
   "execution_count": 28,
   "metadata": {},
   "outputs": [
    {
     "data": {
      "text/plain": [
       "array([[0.28989795, 0.        ],\n",
       "       [0.28989795, 0.        ],\n",
       "       [0.28989795, 0.        ],\n",
       "       [0.28989795, 0.        ],\n",
       "       [0.28989795, 0.        ],\n",
       "       [0.28989795, 0.        ]])"
      ]
     },
     "execution_count": 28,
     "metadata": {},
     "output_type": "execute_result"
    }
   ],
   "source": [
    "pls.x_rotations_"
   ]
  }
 ],
 "metadata": {
  "kernelspec": {
   "display_name": "Python 3",
   "language": "python",
   "name": "python3"
  },
  "language_info": {
   "codemirror_mode": {
    "name": "ipython",
    "version": 3
   },
   "file_extension": ".py",
   "mimetype": "text/x-python",
   "name": "python",
   "nbconvert_exporter": "python",
   "pygments_lexer": "ipython3",
   "version": "3.6.7"
  }
 },
 "nbformat": 4,
 "nbformat_minor": 2
}
