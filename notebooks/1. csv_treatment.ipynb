{
 "cells": [
  {
   "cell_type": "code",
   "execution_count": 208,
   "metadata": {},
   "outputs": [],
   "source": [
    "import pandas as pd\n",
    "from datetime import datetime\n",
    "import re"
   ]
  },
  {
   "cell_type": "code",
   "execution_count": 275,
   "metadata": {},
   "outputs": [],
   "source": [
    "df = pd.read_csv('../data/absorbance/raw.csv')"
   ]
  },
  {
   "cell_type": "markdown",
   "metadata": {},
   "source": [
    "# extracting the year, so that we can remove the wrong data"
   ]
  },
  {
   "cell_type": "code",
   "execution_count": 276,
   "metadata": {},
   "outputs": [],
   "source": [
    "regex = '^\\w+.\\w+,\\d{2}/\\d{2}/(\\d{4})$'"
   ]
  },
  {
   "cell_type": "code",
   "execution_count": 277,
   "metadata": {},
   "outputs": [],
   "source": [
    "df['year'] = df[df.columns.values[0]].apply(lambda x: re.findall(regex, x)[0])"
   ]
  },
  {
   "cell_type": "markdown",
   "metadata": {},
   "source": [
    "# dropping data with wrong date"
   ]
  },
  {
   "cell_type": "code",
   "execution_count": 278,
   "metadata": {},
   "outputs": [],
   "source": [
    "rows_to_drop = df[df['year'] == '1601']\n",
    "df.drop(rows_to_drop.index, inplace=True)"
   ]
  },
  {
   "cell_type": "code",
   "execution_count": 279,
   "metadata": {},
   "outputs": [],
   "source": [
    "df.reset_index(drop=True, inplace=True)"
   ]
  },
  {
   "cell_type": "markdown",
   "metadata": {},
   "source": [
    "# getting shelf life and treatment info"
   ]
  },
  {
   "cell_type": "code",
   "execution_count": 280,
   "metadata": {},
   "outputs": [],
   "source": [
    "regex = '^\\w*(T\\d)(B\\d)(\\d)'"
   ]
  },
  {
   "cell_type": "code",
   "execution_count": 281,
   "metadata": {},
   "outputs": [],
   "source": [
    "df['TREATMENT'] = df['Filename,'].apply(lambda x: re.findall(regex, x)[0][0])\n",
    "df['BLOCK'] = df['Filename,'].apply(lambda x: re.findall(regex, x)[0][1])\n",
    "df['SHELF-LIFE'] = df['Filename,'].apply(lambda x: re.findall(regex, x)[0][2])"
   ]
  },
  {
   "cell_type": "markdown",
   "metadata": {},
   "source": [
    "# removing unnecessary info"
   ]
  },
  {
   "cell_type": "code",
   "execution_count": 282,
   "metadata": {},
   "outputs": [],
   "source": [
    "cols = list(df.columns.values[:2])\n",
    "cols.append('year')"
   ]
  },
  {
   "cell_type": "code",
   "execution_count": 283,
   "metadata": {},
   "outputs": [],
   "source": [
    "df.drop(cols, axis=1, inplace=True)"
   ]
  },
  {
   "cell_type": "markdown",
   "metadata": {},
   "source": [
    "# saving new data"
   ]
  },
  {
   "cell_type": "code",
   "execution_count": 284,
   "metadata": {},
   "outputs": [],
   "source": [
    "df.to_csv('../data/absorbance/treated.csv')"
   ]
  },
  {
   "cell_type": "code",
   "execution_count": null,
   "metadata": {},
   "outputs": [],
   "source": []
  },
  {
   "cell_type": "markdown",
   "metadata": {},
   "source": [
    "# removing wrong felix data"
   ]
  },
  {
   "cell_type": "code",
   "execution_count": 285,
   "metadata": {},
   "outputs": [
    {
     "name": "stderr",
     "output_type": "stream",
     "text": [
      "/home/danielesreis/.local/lib/python3.6/site-packages/ipykernel_launcher.py:4: UserWarning: Boolean Series key will be reindexed to match DataFrame index.\n",
      "  after removing the cwd from sys.path.\n"
     ]
    },
    {
     "data": {
      "text/html": [
       "<div>\n",
       "<style scoped>\n",
       "    .dataframe tbody tr th:only-of-type {\n",
       "        vertical-align: middle;\n",
       "    }\n",
       "\n",
       "    .dataframe tbody tr th {\n",
       "        vertical-align: top;\n",
       "    }\n",
       "\n",
       "    .dataframe thead th {\n",
       "        text-align: right;\n",
       "    }\n",
       "</style>\n",
       "<table border=\"1\" class=\"dataframe\">\n",
       "  <thead>\n",
       "    <tr style=\"text-align: right;\">\n",
       "      <th></th>\n",
       "      <th>285</th>\n",
       "      <th>288</th>\n",
       "      <th>291</th>\n",
       "      <th>294</th>\n",
       "      <th>297</th>\n",
       "      <th>300</th>\n",
       "      <th>303</th>\n",
       "      <th>306</th>\n",
       "      <th>309</th>\n",
       "      <th>312</th>\n",
       "      <th>...</th>\n",
       "      <th>1182</th>\n",
       "      <th>1185</th>\n",
       "      <th>1188</th>\n",
       "      <th>1191</th>\n",
       "      <th>1194</th>\n",
       "      <th>1197</th>\n",
       "      <th>1200</th>\n",
       "      <th>TREATMENT</th>\n",
       "      <th>BLOCK</th>\n",
       "      <th>SHELF-LIFE</th>\n",
       "    </tr>\n",
       "  </thead>\n",
       "  <tbody>\n",
       "    <tr>\n",
       "      <th>660</th>\n",
       "      <td>0</td>\n",
       "      <td>0</td>\n",
       "      <td>0</td>\n",
       "      <td>0</td>\n",
       "      <td>0</td>\n",
       "      <td>0.0</td>\n",
       "      <td>0</td>\n",
       "      <td>0</td>\n",
       "      <td>0.0</td>\n",
       "      <td>0</td>\n",
       "      <td>...</td>\n",
       "      <td>0</td>\n",
       "      <td>0</td>\n",
       "      <td>0</td>\n",
       "      <td>0</td>\n",
       "      <td>0</td>\n",
       "      <td>0</td>\n",
       "      <td>0</td>\n",
       "      <td>T6</td>\n",
       "      <td>B1</td>\n",
       "      <td>1</td>\n",
       "    </tr>\n",
       "    <tr>\n",
       "      <th>661</th>\n",
       "      <td>0</td>\n",
       "      <td>0</td>\n",
       "      <td>0</td>\n",
       "      <td>0</td>\n",
       "      <td>0</td>\n",
       "      <td>0.0</td>\n",
       "      <td>0</td>\n",
       "      <td>0</td>\n",
       "      <td>0.0</td>\n",
       "      <td>0</td>\n",
       "      <td>...</td>\n",
       "      <td>0</td>\n",
       "      <td>0</td>\n",
       "      <td>0</td>\n",
       "      <td>0</td>\n",
       "      <td>0</td>\n",
       "      <td>0</td>\n",
       "      <td>0</td>\n",
       "      <td>T6</td>\n",
       "      <td>B1</td>\n",
       "      <td>1</td>\n",
       "    </tr>\n",
       "  </tbody>\n",
       "</table>\n",
       "<p>2 rows × 309 columns</p>\n",
       "</div>"
      ],
      "text/plain": [
       "     285  288  291  294  297  300  303  306  309  312     ...      1182  1185  \\\n",
       "660    0    0    0    0    0  0.0    0    0  0.0    0     ...         0     0   \n",
       "661    0    0    0    0    0  0.0    0    0  0.0    0     ...         0     0   \n",
       "\n",
       "     1188  1191  1194  1197  1200  TREATMENT  BLOCK  SHELF-LIFE  \n",
       "660     0     0     0     0     0         T6     B1           1  \n",
       "661     0     0     0     0     0         T6     B1           1  \n",
       "\n",
       "[2 rows x 309 columns]"
      ]
     },
     "execution_count": 285,
     "metadata": {},
     "output_type": "execute_result"
    }
   ],
   "source": [
    "# Removing these bc in the felix data, there are 20 samples for B1 and 24 for B3, whereas in the quality .csv\n",
    "# there are 42 samples in total. Assuming that the 24 B3 samples are correct (since this should be the exact\n",
    "# value), there should be only 18 samples for B1. Thus, I'm removing the last two from B1\n",
    "df[df['TREATMENT'] == 'T6'][df['SHELF-LIFE'] == '1'].iloc[18:20]"
   ]
  },
  {
   "cell_type": "code",
   "execution_count": 286,
   "metadata": {},
   "outputs": [],
   "source": [
    "df.drop([660, 661], inplace=True)"
   ]
  },
  {
   "cell_type": "code",
   "execution_count": 287,
   "metadata": {},
   "outputs": [],
   "source": [
    "df.to_csv('../data/absorbance/treated_wo_incorrect.csv')"
   ]
  },
  {
   "cell_type": "markdown",
   "metadata": {},
   "source": [
    "# appending the quality data"
   ]
  },
  {
   "cell_type": "code",
   "execution_count": 288,
   "metadata": {},
   "outputs": [],
   "source": [
    "qlt = pd.read_csv('../data/quality/raw.csv')"
   ]
  },
  {
   "cell_type": "code",
   "execution_count": 289,
   "metadata": {},
   "outputs": [],
   "source": [
    "qlt.drop(columns=['LEVELS'], inplace=True)\n",
    "qlt['TREATMENT'] = qlt['TREATMENT'].apply(lambda x: str(x))\n",
    "qlt['SHELF-LIFE'] = qlt['SHELF-LIFE'].apply(lambda x: str(x))"
   ]
  },
  {
   "cell_type": "code",
   "execution_count": null,
   "metadata": {},
   "outputs": [],
   "source": []
  },
  {
   "cell_type": "markdown",
   "metadata": {},
   "source": [
    "# removing wrong quality data"
   ]
  },
  {
   "cell_type": "code",
   "execution_count": 290,
   "metadata": {},
   "outputs": [
    {
     "name": "stderr",
     "output_type": "stream",
     "text": [
      "/home/danielesreis/.local/lib/python3.6/site-packages/ipykernel_launcher.py:3: UserWarning: Boolean Series key will be reindexed to match DataFrame index.\n",
      "  This is separate from the ipykernel package so we can avoid doing imports until\n"
     ]
    },
    {
     "data": {
      "text/html": [
       "<div>\n",
       "<style scoped>\n",
       "    .dataframe tbody tr th:only-of-type {\n",
       "        vertical-align: middle;\n",
       "    }\n",
       "\n",
       "    .dataframe tbody tr th {\n",
       "        vertical-align: top;\n",
       "    }\n",
       "\n",
       "    .dataframe thead th {\n",
       "        text-align: right;\n",
       "    }\n",
       "</style>\n",
       "<table border=\"1\" class=\"dataframe\">\n",
       "  <thead>\n",
       "    <tr style=\"text-align: right;\">\n",
       "      <th></th>\n",
       "      <th>SHELF-LIFE</th>\n",
       "      <th>TREATMENT</th>\n",
       "      <th>NUM</th>\n",
       "      <th>FRESH MASS</th>\n",
       "      <th>L</th>\n",
       "      <th>C</th>\n",
       "      <th>H</th>\n",
       "      <th>FIRMNESS</th>\n",
       "      <th>LP</th>\n",
       "      <th>CP</th>\n",
       "      <th>HP</th>\n",
       "      <th>SST</th>\n",
       "      <th>TOTAL ACIDITY</th>\n",
       "      <th>DRY MASS</th>\n",
       "    </tr>\n",
       "  </thead>\n",
       "  <tbody>\n",
       "    <tr>\n",
       "      <th>492</th>\n",
       "      <td>1</td>\n",
       "      <td>T4</td>\n",
       "      <td>23</td>\n",
       "      <td>513.28</td>\n",
       "      <td>65.47</td>\n",
       "      <td>52.12</td>\n",
       "      <td>62.20</td>\n",
       "      <td>6.9</td>\n",
       "      <td>59.83</td>\n",
       "      <td>64.26</td>\n",
       "      <td>79.27</td>\n",
       "      <td>16.5</td>\n",
       "      <td>NaN</td>\n",
       "      <td>20.51</td>\n",
       "    </tr>\n",
       "    <tr>\n",
       "      <th>493</th>\n",
       "      <td>1</td>\n",
       "      <td>T4</td>\n",
       "      <td>24</td>\n",
       "      <td>513.28</td>\n",
       "      <td>71.87</td>\n",
       "      <td>56.41</td>\n",
       "      <td>78.29</td>\n",
       "      <td>13.8</td>\n",
       "      <td>66.32</td>\n",
       "      <td>67.88</td>\n",
       "      <td>79.67</td>\n",
       "      <td>16.2</td>\n",
       "      <td>NaN</td>\n",
       "      <td>19.98</td>\n",
       "    </tr>\n",
       "  </tbody>\n",
       "</table>\n",
       "</div>"
      ],
      "text/plain": [
       "    SHELF-LIFE TREATMENT  NUM  FRESH MASS      L      C      H  FIRMNESS  \\\n",
       "492          1        T4   23      513.28  65.47  52.12  62.20       6.9   \n",
       "493          1        T4   24      513.28  71.87  56.41  78.29      13.8   \n",
       "\n",
       "        LP     CP     HP   SST  TOTAL ACIDITY  DRY MASS  \n",
       "492  59.83  64.26  79.27  16.5            NaN     20.51  \n",
       "493  66.32  67.88  79.67  16.2            NaN     19.98  "
      ]
     },
     "execution_count": 290,
     "metadata": {},
     "output_type": "execute_result"
    }
   ],
   "source": [
    "# removing from quality data bc there are 46 samples from felix and 48 from quality .csv. B3 is supposedly correct,\n",
    "# because it contains 24 felix samples, whereas there's 22 B1 samples. So, I'm gonna remove the last two from B1.\n",
    "qlt[qlt['TREATMENT']=='T4'][qlt['SHELF-LIFE']=='1'].iloc[22:24]"
   ]
  },
  {
   "cell_type": "code",
   "execution_count": 291,
   "metadata": {},
   "outputs": [],
   "source": [
    "qlt.drop([492, 493], inplace=True)"
   ]
  },
  {
   "cell_type": "code",
   "execution_count": 292,
   "metadata": {},
   "outputs": [],
   "source": [
    "qlt.to_csv('../data/quality/treated_wo_incorrect.csv')"
   ]
  },
  {
   "cell_type": "markdown",
   "metadata": {},
   "source": [
    "# indexing by treatment and shelf-life to allow assignment"
   ]
  },
  {
   "cell_type": "code",
   "execution_count": 293,
   "metadata": {},
   "outputs": [],
   "source": [
    "new_df = df.sort_values(by=['TREATMENT', 'SHELF-LIFE']).reset_index()"
   ]
  },
  {
   "cell_type": "code",
   "execution_count": 294,
   "metadata": {},
   "outputs": [],
   "source": [
    "new_qlt = qlt.sort_values(by=['TREATMENT', 'SHELF-LIFE']).reset_index()"
   ]
  },
  {
   "cell_type": "code",
   "execution_count": 295,
   "metadata": {},
   "outputs": [],
   "source": [
    "attrs = list(new_qlt.columns[3:].values)\n",
    "for att in attrs:\n",
    "    new_df[att] = new_qlt[att]"
   ]
  },
  {
   "cell_type": "code",
   "execution_count": 296,
   "metadata": {},
   "outputs": [],
   "source": [
    "cols = ['TREATMENT', 'BLOCK', 'SHELF-LIFE'] + attrs + list(new_df.columns[1:307].values)"
   ]
  },
  {
   "cell_type": "code",
   "execution_count": 297,
   "metadata": {},
   "outputs": [],
   "source": [
    "cols.remove('NUM')"
   ]
  },
  {
   "cell_type": "code",
   "execution_count": 298,
   "metadata": {},
   "outputs": [],
   "source": [
    "new_df = new_df[cols]"
   ]
  },
  {
   "cell_type": "code",
   "execution_count": 299,
   "metadata": {},
   "outputs": [],
   "source": [
    "new_df.set_index('TREATMENT', inplace=True)"
   ]
  },
  {
   "cell_type": "code",
   "execution_count": 300,
   "metadata": {},
   "outputs": [],
   "source": [
    "new_df.to_csv('../data/data_final.csv')"
   ]
  }
 ],
 "metadata": {
  "kernelspec": {
   "display_name": "Python 3",
   "language": "python",
   "name": "python3"
  },
  "language_info": {
   "codemirror_mode": {
    "name": "ipython",
    "version": 3
   },
   "file_extension": ".py",
   "mimetype": "text/x-python",
   "name": "python",
   "nbconvert_exporter": "python",
   "pygments_lexer": "ipython3",
   "version": "3.6.7"
  }
 },
 "nbformat": 4,
 "nbformat_minor": 2
}
