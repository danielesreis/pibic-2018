{
 "cells": [
  {
   "cell_type": "code",
   "execution_count": 65,
   "metadata": {},
   "outputs": [],
   "source": [
    "import numpy as np\n",
    "import random\n",
    "import math"
   ]
  },
  {
   "cell_type": "code",
   "execution_count": 2,
   "metadata": {},
   "outputs": [],
   "source": [
    "wvl = np.arange(1500, 1800, 1)"
   ]
  },
  {
   "cell_type": "code",
   "execution_count": 4,
   "metadata": {},
   "outputs": [
    {
     "data": {
      "text/plain": [
       "array([1500, 1501, 1502, 1503, 1504, 1505, 1506, 1507, 1508, 1509, 1510,\n",
       "       1511, 1512, 1513, 1514, 1515, 1516, 1517, 1518, 1519, 1520, 1521,\n",
       "       1522, 1523, 1524, 1525, 1526, 1527, 1528, 1529, 1530, 1531, 1532,\n",
       "       1533, 1534, 1535, 1536, 1537, 1538, 1539, 1540, 1541, 1542, 1543,\n",
       "       1544, 1545, 1546, 1547, 1548, 1549, 1550, 1551, 1552, 1553, 1554,\n",
       "       1555, 1556, 1557, 1558, 1559, 1560, 1561, 1562, 1563, 1564, 1565,\n",
       "       1566, 1567, 1568, 1569, 1570, 1571, 1572, 1573, 1574, 1575, 1576,\n",
       "       1577, 1578, 1579, 1580, 1581, 1582, 1583, 1584, 1585, 1586, 1587,\n",
       "       1588, 1589, 1590, 1591, 1592, 1593, 1594, 1595, 1596, 1597, 1598,\n",
       "       1599, 1600, 1601, 1602, 1603, 1604, 1605, 1606, 1607, 1608, 1609,\n",
       "       1610, 1611, 1612, 1613, 1614, 1615, 1616, 1617, 1618, 1619, 1620,\n",
       "       1621, 1622, 1623, 1624, 1625, 1626, 1627, 1628, 1629, 1630, 1631,\n",
       "       1632, 1633, 1634, 1635, 1636, 1637, 1638, 1639, 1640, 1641, 1642,\n",
       "       1643, 1644, 1645, 1646, 1647, 1648, 1649, 1650, 1651, 1652, 1653,\n",
       "       1654, 1655, 1656, 1657, 1658, 1659, 1660, 1661, 1662, 1663, 1664,\n",
       "       1665, 1666, 1667, 1668, 1669, 1670, 1671, 1672, 1673, 1674, 1675,\n",
       "       1676, 1677, 1678, 1679, 1680, 1681, 1682, 1683, 1684, 1685, 1686,\n",
       "       1687, 1688, 1689, 1690, 1691, 1692, 1693, 1694, 1695, 1696, 1697,\n",
       "       1698, 1699, 1700, 1701, 1702, 1703, 1704, 1705, 1706, 1707, 1708,\n",
       "       1709, 1710, 1711, 1712, 1713, 1714, 1715, 1716, 1717, 1718, 1719,\n",
       "       1720, 1721, 1722, 1723, 1724, 1725, 1726, 1727, 1728, 1729, 1730,\n",
       "       1731, 1732, 1733, 1734, 1735, 1736, 1737, 1738, 1739, 1740, 1741,\n",
       "       1742, 1743, 1744, 1745, 1746, 1747, 1748, 1749, 1750, 1751, 1752,\n",
       "       1753, 1754, 1755, 1756, 1757, 1758, 1759, 1760, 1761, 1762, 1763,\n",
       "       1764, 1765, 1766, 1767, 1768, 1769, 1770, 1771, 1772, 1773, 1774,\n",
       "       1775, 1776, 1777, 1778, 1779, 1780, 1781, 1782, 1783, 1784, 1785,\n",
       "       1786, 1787, 1788, 1789, 1790, 1791, 1792, 1793, 1794, 1795, 1796,\n",
       "       1797, 1798, 1799])"
      ]
     },
     "execution_count": 4,
     "metadata": {},
     "output_type": "execute_result"
    }
   ],
   "source": [
    "wvl"
   ]
  },
  {
   "cell_type": "code",
   "execution_count": 95,
   "metadata": {},
   "outputs": [],
   "source": [
    "range_widths = [10, 20, 30, 40, 50]\n",
    "n_ranges = [1, 2, 3, 4, 5]\n",
    "n_solutions = 10"
   ]
  },
  {
   "cell_type": "code",
   "execution_count": 85,
   "metadata": {},
   "outputs": [
    {
     "data": {
      "text/plain": [
       "array([1700, 1701, 1702, 1703, 1704, 1705, 1706, 1707, 1708, 1709, 1710,\n",
       "       1711, 1712, 1713, 1714, 1715, 1716, 1717, 1718, 1719, 1720, 1721,\n",
       "       1722, 1723, 1724, 1725, 1726, 1727, 1728, 1729, 1730, 1731, 1732,\n",
       "       1733, 1734, 1735, 1736, 1737, 1738, 1739, 1740, 1741, 1742, 1743,\n",
       "       1744, 1745, 1746, 1747, 1748, 1749, 1750, 1751, 1752, 1753, 1754,\n",
       "       1755, 1756, 1757, 1758, 1759, 1760, 1761, 1762, 1763, 1764, 1765,\n",
       "       1766, 1767, 1768, 1769, 1770, 1771, 1772, 1773, 1774, 1775, 1776,\n",
       "       1777, 1778, 1779, 1780, 1781, 1782, 1783, 1784, 1785, 1786, 1787,\n",
       "       1788, 1789, 1790, 1791, 1792, 1793, 1794, 1795, 1796, 1797, 1798,\n",
       "       1799])"
      ]
     },
     "execution_count": 85,
     "metadata": {},
     "output_type": "execute_result"
    }
   ],
   "source": [
    "wvl[(rng-1)*array_slice:array_slice*rng]"
   ]
  },
  {
   "cell_type": "code",
   "execution_count": 88,
   "metadata": {},
   "outputs": [],
   "source": [
    "ranges = random.choice(n_ranges)"
   ]
  },
  {
   "cell_type": "code",
   "execution_count": 92,
   "metadata": {},
   "outputs": [
    {
     "name": "stdout",
     "output_type": "stream",
     "text": [
      "0\n",
      "1\n",
      "2\n",
      "3\n",
      "4\n"
     ]
    }
   ],
   "source": [
    "for a in range(5):\n",
    "    print(a)"
   ]
  },
  {
   "cell_type": "code",
   "execution_count": 101,
   "metadata": {},
   "outputs": [
    {
     "data": {
      "text/plain": [
       "16"
      ]
     },
     "execution_count": 101,
     "metadata": {},
     "output_type": "execute_result"
    }
   ],
   "source": [
    "random.randint(10, 20)"
   ]
  },
  {
   "cell_type": "code",
   "execution_count": 219,
   "metadata": {},
   "outputs": [],
   "source": [
    "def random_pop(wvl):\n",
    "    chromossomes = np.array([[0]*max(n_ranges)*2]*n_solutions)\n",
    "    for solution in range(n_solutions):\n",
    "        ranges = random.choice(n_ranges)\n",
    "        chromossomes[solution] = np.array([0]*max(n_ranges)*2)\n",
    "        \n",
    "        array_slice = math.floor(len(wvl)/ranges)\n",
    "        \n",
    "        for rng in range(ranges):\n",
    "            slc = wvl[rng*array_slice:array_slice*(rng+1)]\n",
    "            if rng == ranges-1:\n",
    "                slc = wvl[rng*array_slice:]\n",
    "            \n",
    "            range_width = random.choice(range_widths)\n",
    "            initial_wv = random.randint(slc[0], slc[-range_width+1])            \n",
    "            chromossomes[solution][rng*2] = initial_wv\n",
    "            chromossomes[solution][rng*2+1] = range_width\n",
    "\n",
    "    return chromossomes"
   ]
  },
  {
   "cell_type": "code",
   "execution_count": 220,
   "metadata": {},
   "outputs": [
    {
     "name": "stdout",
     "output_type": "stream",
     "text": [
      "number of ranges: 3\n",
      "slice_max_size: 100\n",
      "random range width: 50\n",
      "first wv: 1524\n",
      "random range width: 10\n",
      "first wv: 1648\n",
      "random range width: 40\n",
      "first wv: 1753\n",
      "number of ranges: 2\n",
      "slice_max_size: 150\n",
      "random range width: 30\n",
      "first wv: 1597\n",
      "random range width: 10\n",
      "first wv: 1784\n",
      "number of ranges: 4\n",
      "slice_max_size: 75\n",
      "random range width: 20\n",
      "first wv: 1549\n",
      "random range width: 30\n",
      "first wv: 1603\n",
      "random range width: 20\n",
      "first wv: 1650\n",
      "random range width: 40\n",
      "first wv: 1761\n",
      "number of ranges: 3\n",
      "slice_max_size: 100\n",
      "random range width: 20\n",
      "first wv: 1520\n",
      "random range width: 30\n",
      "first wv: 1618\n",
      "random range width: 10\n",
      "first wv: 1708\n",
      "number of ranges: 5\n",
      "slice_max_size: 60\n",
      "random range width: 50\n",
      "first wv: 1506\n",
      "random range width: 10\n",
      "first wv: 1589\n",
      "random range width: 20\n",
      "first wv: 1623\n",
      "random range width: 30\n",
      "first wv: 1700\n",
      "random range width: 10\n",
      "first wv: 1743\n",
      "number of ranges: 4\n",
      "slice_max_size: 75\n",
      "random range width: 50\n",
      "first wv: 1526\n",
      "random range width: 20\n",
      "first wv: 1582\n",
      "random range width: 30\n",
      "first wv: 1679\n",
      "random range width: 30\n",
      "first wv: 1744\n",
      "number of ranges: 3\n",
      "slice_max_size: 100\n",
      "random range width: 50\n",
      "first wv: 1548\n",
      "random range width: 30\n",
      "first wv: 1655\n",
      "random range width: 10\n",
      "first wv: 1730\n",
      "number of ranges: 2\n",
      "slice_max_size: 150\n",
      "random range width: 40\n",
      "first wv: 1580\n",
      "random range width: 40\n",
      "first wv: 1708\n",
      "number of ranges: 5\n",
      "slice_max_size: 60\n",
      "random range width: 40\n",
      "first wv: 1515\n",
      "random range width: 40\n",
      "first wv: 1580\n",
      "random range width: 30\n",
      "first wv: 1650\n",
      "random range width: 30\n",
      "first wv: 1700\n",
      "random range width: 50\n",
      "first wv: 1743\n",
      "number of ranges: 1\n",
      "slice_max_size: 300\n",
      "random range width: 40\n",
      "first wv: 1607\n"
     ]
    },
    {
     "data": {
      "text/plain": [
       "array([[1524,   50, 1648,   10, 1753,   40,    0,    0,    0,    0],\n",
       "       [1597,   30, 1784,   10,    0,    0,    0,    0,    0,    0],\n",
       "       [1549,   20, 1603,   30, 1650,   20, 1761,   40,    0,    0],\n",
       "       [1520,   20, 1618,   30, 1708,   10,    0,    0,    0,    0],\n",
       "       [1506,   50, 1589,   10, 1623,   20, 1700,   30, 1743,   10],\n",
       "       [1526,   50, 1582,   20, 1679,   30, 1744,   30,    0,    0],\n",
       "       [1548,   50, 1655,   30, 1730,   10,    0,    0,    0,    0],\n",
       "       [1580,   40, 1708,   40,    0,    0,    0,    0,    0,    0],\n",
       "       [1515,   40, 1580,   40, 1650,   30, 1700,   30, 1743,   50],\n",
       "       [1607,   40,    0,    0,    0,    0,    0,    0,    0,    0]])"
      ]
     },
     "execution_count": 220,
     "metadata": {},
     "output_type": "execute_result"
    }
   ],
   "source": [
    "random_pop(wvl)"
   ]
  },
  {
   "cell_type": "code",
   "execution_count": null,
   "metadata": {},
   "outputs": [],
   "source": []
  }
 ],
 "metadata": {
  "kernelspec": {
   "display_name": "Python 3",
   "language": "python",
   "name": "python3"
  },
  "language_info": {
   "codemirror_mode": {
    "name": "ipython",
    "version": 3
   },
   "file_extension": ".py",
   "mimetype": "text/x-python",
   "name": "python",
   "nbconvert_exporter": "python",
   "pygments_lexer": "ipython3",
   "version": "3.6.7"
  }
 },
 "nbformat": 4,
 "nbformat_minor": 2
}
