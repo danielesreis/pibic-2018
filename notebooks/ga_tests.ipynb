{
 "cells": [
  {
   "cell_type": "code",
   "execution_count": 1,
   "metadata": {},
   "outputs": [],
   "source": [
    "import numpy as np\n",
    "import random\n",
    "import math"
   ]
  },
  {
   "cell_type": "code",
   "execution_count": 2,
   "metadata": {},
   "outputs": [],
   "source": [
    "wvl = np.arange(1500, 1800, 1)"
   ]
  },
  {
   "cell_type": "code",
   "execution_count": 3,
   "metadata": {},
   "outputs": [
    {
     "data": {
      "text/plain": [
       "array([1500, 1501, 1502, 1503, 1504, 1505, 1506, 1507, 1508, 1509, 1510,\n",
       "       1511, 1512, 1513, 1514, 1515, 1516, 1517, 1518, 1519, 1520, 1521,\n",
       "       1522, 1523, 1524, 1525, 1526, 1527, 1528, 1529, 1530, 1531, 1532,\n",
       "       1533, 1534, 1535, 1536, 1537, 1538, 1539, 1540, 1541, 1542, 1543,\n",
       "       1544, 1545, 1546, 1547, 1548, 1549, 1550, 1551, 1552, 1553, 1554,\n",
       "       1555, 1556, 1557, 1558, 1559, 1560, 1561, 1562, 1563, 1564, 1565,\n",
       "       1566, 1567, 1568, 1569, 1570, 1571, 1572, 1573, 1574, 1575, 1576,\n",
       "       1577, 1578, 1579, 1580, 1581, 1582, 1583, 1584, 1585, 1586, 1587,\n",
       "       1588, 1589, 1590, 1591, 1592, 1593, 1594, 1595, 1596, 1597, 1598,\n",
       "       1599, 1600, 1601, 1602, 1603, 1604, 1605, 1606, 1607, 1608, 1609,\n",
       "       1610, 1611, 1612, 1613, 1614, 1615, 1616, 1617, 1618, 1619, 1620,\n",
       "       1621, 1622, 1623, 1624, 1625, 1626, 1627, 1628, 1629, 1630, 1631,\n",
       "       1632, 1633, 1634, 1635, 1636, 1637, 1638, 1639, 1640, 1641, 1642,\n",
       "       1643, 1644, 1645, 1646, 1647, 1648, 1649, 1650, 1651, 1652, 1653,\n",
       "       1654, 1655, 1656, 1657, 1658, 1659, 1660, 1661, 1662, 1663, 1664,\n",
       "       1665, 1666, 1667, 1668, 1669, 1670, 1671, 1672, 1673, 1674, 1675,\n",
       "       1676, 1677, 1678, 1679, 1680, 1681, 1682, 1683, 1684, 1685, 1686,\n",
       "       1687, 1688, 1689, 1690, 1691, 1692, 1693, 1694, 1695, 1696, 1697,\n",
       "       1698, 1699, 1700, 1701, 1702, 1703, 1704, 1705, 1706, 1707, 1708,\n",
       "       1709, 1710, 1711, 1712, 1713, 1714, 1715, 1716, 1717, 1718, 1719,\n",
       "       1720, 1721, 1722, 1723, 1724, 1725, 1726, 1727, 1728, 1729, 1730,\n",
       "       1731, 1732, 1733, 1734, 1735, 1736, 1737, 1738, 1739, 1740, 1741,\n",
       "       1742, 1743, 1744, 1745, 1746, 1747, 1748, 1749, 1750, 1751, 1752,\n",
       "       1753, 1754, 1755, 1756, 1757, 1758, 1759, 1760, 1761, 1762, 1763,\n",
       "       1764, 1765, 1766, 1767, 1768, 1769, 1770, 1771, 1772, 1773, 1774,\n",
       "       1775, 1776, 1777, 1778, 1779, 1780, 1781, 1782, 1783, 1784, 1785,\n",
       "       1786, 1787, 1788, 1789, 1790, 1791, 1792, 1793, 1794, 1795, 1796,\n",
       "       1797, 1798, 1799])"
      ]
     },
     "execution_count": 3,
     "metadata": {},
     "output_type": "execute_result"
    }
   ],
   "source": [
    "wvl"
   ]
  },
  {
   "cell_type": "code",
   "execution_count": 4,
   "metadata": {},
   "outputs": [],
   "source": [
    "range_widths = [10, 20, 30, 40, 50]\n",
    "n_ranges = [1, 2, 3, 4, 5]\n",
    "n_solutions = 10"
   ]
  },
  {
   "cell_type": "code",
   "execution_count": 6,
   "metadata": {},
   "outputs": [],
   "source": [
    "ranges = random.choice(n_ranges)"
   ]
  },
  {
   "cell_type": "code",
   "execution_count": 8,
   "metadata": {},
   "outputs": [
    {
     "data": {
      "text/plain": [
       "14"
      ]
     },
     "execution_count": 8,
     "metadata": {},
     "output_type": "execute_result"
    }
   ],
   "source": [
    "random.randint(10, 20)"
   ]
  },
  {
   "cell_type": "code",
   "execution_count": 19,
   "metadata": {},
   "outputs": [],
   "source": [
    "def random_pop(wvl):\n",
    "    chromossomes = np.array([[0]*max(n_ranges)*2]*n_solutions)\n",
    "    for solution in range(n_solutions):\n",
    "        ranges = random.choice(n_ranges)\n",
    "        chromossomes[solution] = np.array([0]*max(n_ranges)*2)\n",
    "        \n",
    "        array_slice = math.floor(len(wvl)/ranges)\n",
    "        \n",
    "        for rng in range(ranges):\n",
    "            slc = wvl[rng*array_slice:array_slice*(rng+1)]\n",
    "            if rng == ranges-1:\n",
    "                slc = wvl[rng*array_slice:]\n",
    "            \n",
    "            range_width = random.choice(range_widths)\n",
    "            initial_wv = random.randint(slc[0], slc[-range_width+1])            \n",
    "            chromossomes[solution][rng*2] = initial_wv\n",
    "            chromossomes[solution][rng*2+1] = range_width\n",
    "\n",
    "    return chromossomes"
   ]
  },
  {
   "cell_type": "code",
   "execution_count": 20,
   "metadata": {},
   "outputs": [
    {
     "data": {
      "text/plain": [
       "array([[1547,   40, 1620,   30, 1747,   20,    0,    0,    0,    0],\n",
       "       [1507,   50, 1638,   50, 1755,   30,    0,    0,    0,    0],\n",
       "       [1525,   20, 1627,   50, 1727,   20,    0,    0,    0,    0],\n",
       "       [1509,   10, 1563,   30, 1647,   30, 1694,   10, 1783,   10],\n",
       "       [1527,   30, 1569,   50, 1626,   40, 1685,   30, 1744,   50],\n",
       "       [1546,   50, 1627,   40, 1736,   50,    0,    0,    0,    0],\n",
       "       [1521,   30, 1601,   50, 1704,   10,    0,    0,    0,    0],\n",
       "       [1534,   20, 1602,   10, 1655,   30, 1751,   10,    0,    0],\n",
       "       [1521,   40, 1593,   50, 1670,   40, 1745,   50,    0,    0],\n",
       "       [1533,   20, 1570,   50, 1632,   20, 1695,   10, 1746,   50]])"
      ]
     },
     "execution_count": 20,
     "metadata": {},
     "output_type": "execute_result"
    }
   ],
   "source": [
    "random_pop(wvl)"
   ]
  },
  {
   "cell_type": "code",
   "execution_count": 21,
   "metadata": {},
   "outputs": [],
   "source": [
    "c =  [1533,   20, 1570,   50, 1632,   20, 1695,   10, 1746,   50];"
   ]
  },
  {
   "cell_type": "code",
   "execution_count": 63,
   "metadata": {},
   "outputs": [
    {
     "data": {
      "text/plain": [
       "0"
      ]
     },
     "execution_count": 63,
     "metadata": {},
     "output_type": "execute_result"
    }
   ],
   "source": [
    "random.randint(0, 1)"
   ]
  },
  {
   "cell_type": "code",
   "execution_count": 115,
   "metadata": {},
   "outputs": [],
   "source": [
    "def mutation(chromossome):\n",
    "    #     array com 0 nas últimas posições?\n",
    "        new_chromossome = np.array([0]*10)\n",
    "        for value, ctr in zip(chromossome, range(10)):\n",
    "            while(True):\n",
    "                new_num = []\n",
    "                for i in str(value):\n",
    "                    prob = random.randint(1,100)\n",
    "                    if (ctr+1)%2 != 0 and ctr == 0:\n",
    "                        value_to_append = random.randint(0,1) if prob <= 0.1*100 else int(i)\n",
    "                        new_num.append(value_to_append)\n",
    "                    else:\n",
    "                        value_to_append = random.randint(0,9) if prob <= 0.1*100 else int(i)\n",
    "                        new_num.append(value_to_append)\n",
    "                \n",
    "                int_new_num = int(''.join(str(i) for i in new_num))\n",
    "                if ((ctr+1)%2 != 0 and int_new_num < 1799):\n",
    "                    new_chromossome[ctr] = int_new_num\n",
    "                    break\n",
    "                elif ((ctr+1)%2 == 0 and int_new_num+new_chromossome[ctr-1] < 1799):\n",
    "                    new_chromossome[ctr] = int_new_num\n",
    "                    break\n",
    "        \n",
    "        return new_chromossome"
   ]
  },
  {
   "cell_type": "code",
   "execution_count": 138,
   "metadata": {},
   "outputs": [
    {
     "data": {
      "text/plain": [
       "array([1533,   20, 1570,   50, 1632,   20, 1695,   10, 1746,   50])"
      ]
     },
     "execution_count": 138,
     "metadata": {},
     "output_type": "execute_result"
    }
   ],
   "source": [
    "mutation(c)"
   ]
  },
  {
   "cell_type": "code",
   "execution_count": null,
   "metadata": {},
   "outputs": [],
   "source": []
  }
 ],
 "metadata": {
  "kernelspec": {
   "display_name": "Python 3",
   "language": "python",
   "name": "python3"
  },
  "language_info": {
   "codemirror_mode": {
    "name": "ipython",
    "version": 3
   },
   "file_extension": ".py",
   "mimetype": "text/x-python",
   "name": "python",
   "nbconvert_exporter": "python",
   "pygments_lexer": "ipython3",
   "version": "3.6.7"
  }
 },
 "nbformat": 4,
 "nbformat_minor": 2
}
