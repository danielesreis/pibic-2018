{
 "cells": [
  {
   "cell_type": "code",
   "execution_count": 1,
   "metadata": {},
   "outputs": [],
   "source": [
    "import pandas as pd\n",
    "from datetime import datetime\n",
    "import re"
   ]
  },
  {
   "cell_type": "code",
   "execution_count": 137,
   "metadata": {},
   "outputs": [],
   "source": [
    "df = pd.read_csv('../data/absorbance/raw.csv')"
   ]
  },
  {
   "cell_type": "markdown",
   "metadata": {},
   "source": [
    "# extracting the year, so that we can remove the wrong data"
   ]
  },
  {
   "cell_type": "code",
   "execution_count": 138,
   "metadata": {},
   "outputs": [],
   "source": [
    "regex = '^\\w+.\\w+,\\d{2}/\\d{2}/(\\d{4})$'"
   ]
  },
  {
   "cell_type": "code",
   "execution_count": 139,
   "metadata": {},
   "outputs": [],
   "source": [
    "df['year'] = df[df.columns.values[0]].apply(lambda x: re.findall(regex, x)[0])"
   ]
  },
  {
   "cell_type": "markdown",
   "metadata": {},
   "source": [
    "# dropping data with wrong date"
   ]
  },
  {
   "cell_type": "code",
   "execution_count": 140,
   "metadata": {},
   "outputs": [],
   "source": [
    "rows_to_drop = df[df['year'] == '1601']\n",
    "df.drop(rows_to_drop.index, inplace=True)"
   ]
  },
  {
   "cell_type": "code",
   "execution_count": 141,
   "metadata": {},
   "outputs": [],
   "source": [
    "df.reset_index(drop=True, inplace=True)"
   ]
  },
  {
   "cell_type": "markdown",
   "metadata": {},
   "source": [
    "# getting shelf life and treatment info"
   ]
  },
  {
   "cell_type": "code",
   "execution_count": 144,
   "metadata": {},
   "outputs": [],
   "source": [
    "regex = '^\\w*(T\\d)(B\\d)(\\d)'"
   ]
  },
  {
   "cell_type": "code",
   "execution_count": 145,
   "metadata": {},
   "outputs": [],
   "source": [
    "df['TREATMENT'] = df['Filename,'].apply(lambda x: re.findall(regex, x)[0][0])\n",
    "df['BLOCK'] = df['Filename,'].apply(lambda x: re.findall(regex, x)[0][1])\n",
    "df['SHELF-LIFE'] = df['Filename,'].apply(lambda x: re.findall(regex, x)[0][2])"
   ]
  },
  {
   "cell_type": "markdown",
   "metadata": {},
   "source": [
    "# removing unnecessary info"
   ]
  },
  {
   "cell_type": "code",
   "execution_count": 147,
   "metadata": {},
   "outputs": [],
   "source": [
    "cols = list(df.columns.values[:2])\n",
    "cols.append('year')"
   ]
  },
  {
   "cell_type": "code",
   "execution_count": 148,
   "metadata": {},
   "outputs": [],
   "source": [
    "df.drop(cols, axis=1, inplace=True)"
   ]
  },
  {
   "cell_type": "markdown",
   "metadata": {},
   "source": [
    "# saving new data"
   ]
  },
  {
   "cell_type": "code",
   "execution_count": 149,
   "metadata": {},
   "outputs": [],
   "source": [
    "df.to_csv('../data/absorbance/treated.csv')"
   ]
  },
  {
   "cell_type": "code",
   "execution_count": null,
   "metadata": {},
   "outputs": [],
   "source": []
  },
  {
   "cell_type": "code",
   "execution_count": 170,
   "metadata": {},
   "outputs": [
    {
     "data": {
      "text/plain": [
       "SHELF-LIFE  BLOCK\n",
       "0           B1       24\n",
       "            B2       24\n",
       "            B3       24\n",
       "1           B1       24\n",
       "            B3       24\n",
       "            B2       22\n",
       "2           B1       24\n",
       "3           B1       24\n",
       "            B3       24\n",
       "Name: BLOCK, dtype: int64"
      ]
     },
     "execution_count": 170,
     "metadata": {},
     "output_type": "execute_result"
    }
   ],
   "source": [
    "df[df['TREATMENT'] == 'T3'].groupby(['SHELF-LIFE'])['BLOCK'].value_counts()"
   ]
  },
  {
   "cell_type": "markdown",
   "metadata": {},
   "source": [
    "# appending the quality data"
   ]
  },
  {
   "cell_type": "code",
   "execution_count": 124,
   "metadata": {},
   "outputs": [],
   "source": [
    "qlt = pd.read_csv('../data/quality/raw.csv')"
   ]
  },
  {
   "cell_type": "code",
   "execution_count": 125,
   "metadata": {},
   "outputs": [],
   "source": [
    "qlt.drop(columns=['LEVELS'], inplace=True)\n",
    "qlt['TREATMENT'] = qlt['TREATMENT'].apply(lambda x: str(x))\n",
    "qlt['SHELF-LIFE'] = qlt['TREATMENT'].apply(lambda x: str(x))"
   ]
  },
  {
   "cell_type": "code",
   "execution_count": 126,
   "metadata": {},
   "outputs": [],
   "source": [
    "df.set_index(['TREATMENT', 'SHELF-LIFE'], inplace=True)\n",
    "qlt.set_index(['TREATMENT', 'SHELF-LIFE'], inplace=True)"
   ]
  },
  {
   "cell_type": "code",
   "execution_count": 76,
   "metadata": {},
   "outputs": [
    {
     "data": {
      "text/html": [
       "<div>\n",
       "<style scoped>\n",
       "    .dataframe tbody tr th:only-of-type {\n",
       "        vertical-align: middle;\n",
       "    }\n",
       "\n",
       "    .dataframe tbody tr th {\n",
       "        vertical-align: top;\n",
       "    }\n",
       "\n",
       "    .dataframe thead th {\n",
       "        text-align: right;\n",
       "    }\n",
       "</style>\n",
       "<table border=\"1\" class=\"dataframe\">\n",
       "  <thead>\n",
       "    <tr style=\"text-align: right;\">\n",
       "      <th></th>\n",
       "      <th>0</th>\n",
       "      <th>1</th>\n",
       "      <th>2</th>\n",
       "      <th>3</th>\n",
       "      <th>4</th>\n",
       "      <th>5</th>\n",
       "      <th>6</th>\n",
       "      <th>7</th>\n",
       "      <th>8</th>\n",
       "      <th>9</th>\n",
       "      <th>...</th>\n",
       "      <th>820</th>\n",
       "      <th>821</th>\n",
       "      <th>822</th>\n",
       "      <th>823</th>\n",
       "      <th>824</th>\n",
       "      <th>825</th>\n",
       "      <th>826</th>\n",
       "      <th>827</th>\n",
       "      <th>828</th>\n",
       "      <th>829</th>\n",
       "    </tr>\n",
       "  </thead>\n",
       "  <tbody>\n",
       "    <tr>\n",
       "      <th>SST</th>\n",
       "      <td>13.8</td>\n",
       "      <td>15.3</td>\n",
       "      <td>16.5</td>\n",
       "      <td>NaN</td>\n",
       "      <td>NaN</td>\n",
       "      <td>NaN</td>\n",
       "      <td>14.9</td>\n",
       "      <td>15.7</td>\n",
       "      <td>NaN</td>\n",
       "      <td>NaN</td>\n",
       "      <td>...</td>\n",
       "      <td>6.1</td>\n",
       "      <td>7.8</td>\n",
       "      <td>15.2</td>\n",
       "      <td>14</td>\n",
       "      <td>20.1</td>\n",
       "      <td>18.7</td>\n",
       "      <td>16.8</td>\n",
       "      <td>18.4</td>\n",
       "      <td>15.8</td>\n",
       "      <td>14</td>\n",
       "    </tr>\n",
       "    <tr>\n",
       "      <th>TREATMENT</th>\n",
       "      <td>T5</td>\n",
       "      <td>T5</td>\n",
       "      <td>T5</td>\n",
       "      <td>T5</td>\n",
       "      <td>T5</td>\n",
       "      <td>T5</td>\n",
       "      <td>T5</td>\n",
       "      <td>T5</td>\n",
       "      <td>T5</td>\n",
       "      <td>T5</td>\n",
       "      <td>...</td>\n",
       "      <td>T4</td>\n",
       "      <td>T4</td>\n",
       "      <td>T4</td>\n",
       "      <td>T4</td>\n",
       "      <td>T4</td>\n",
       "      <td>T4</td>\n",
       "      <td>T4</td>\n",
       "      <td>T4</td>\n",
       "      <td>T4</td>\n",
       "      <td>T4</td>\n",
       "    </tr>\n",
       "    <tr>\n",
       "      <th>SHELF-LIFE</th>\n",
       "      <td>0</td>\n",
       "      <td>0</td>\n",
       "      <td>0</td>\n",
       "      <td>0</td>\n",
       "      <td>0</td>\n",
       "      <td>0</td>\n",
       "      <td>0</td>\n",
       "      <td>0</td>\n",
       "      <td>0</td>\n",
       "      <td>0</td>\n",
       "      <td>...</td>\n",
       "      <td>3</td>\n",
       "      <td>3</td>\n",
       "      <td>3</td>\n",
       "      <td>3</td>\n",
       "      <td>3</td>\n",
       "      <td>3</td>\n",
       "      <td>3</td>\n",
       "      <td>3</td>\n",
       "      <td>3</td>\n",
       "      <td>3</td>\n",
       "    </tr>\n",
       "  </tbody>\n",
       "</table>\n",
       "<p>3 rows × 830 columns</p>\n",
       "</div>"
      ],
      "text/plain": [
       "             0     1     2    3    4    5     6     7    8    9   ...  820  \\\n",
       "SST         13.8  15.3  16.5  NaN  NaN  NaN  14.9  15.7  NaN  NaN ...  6.1   \n",
       "TREATMENT     T5    T5    T5   T5   T5   T5    T5    T5   T5   T5 ...   T4   \n",
       "SHELF-LIFE     0     0     0    0    0    0     0     0    0    0 ...    3   \n",
       "\n",
       "            821   822 823   824   825   826   827   828 829  \n",
       "SST         7.8  15.2  14  20.1  18.7  16.8  18.4  15.8  14  \n",
       "TREATMENT    T4    T4  T4    T4    T4    T4    T4    T4  T4  \n",
       "SHELF-LIFE    3     3   3     3     3     3     3     3   3  \n",
       "\n",
       "[3 rows x 830 columns]"
      ]
     },
     "execution_count": 76,
     "metadata": {},
     "output_type": "execute_result"
    }
   ],
   "source": [
    "qlt[['SST', 'TREATMENT', 'SHELF-LIFE']].transpose()"
   ]
  }
 ],
 "metadata": {
  "kernelspec": {
   "display_name": "Python 3",
   "language": "python",
   "name": "python3"
  },
  "language_info": {
   "codemirror_mode": {
    "name": "ipython",
    "version": 3
   },
   "file_extension": ".py",
   "mimetype": "text/x-python",
   "name": "python",
   "nbconvert_exporter": "python",
   "pygments_lexer": "ipython3",
   "version": "3.6.7"
  }
 },
 "nbformat": 4,
 "nbformat_minor": 2
}
