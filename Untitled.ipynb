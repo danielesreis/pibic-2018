{
 "cells": [
  {
   "cell_type": "code",
   "execution_count": 52,
   "metadata": {},
   "outputs": [],
   "source": [
    "import numpy as np\n",
    "import math\n",
    "import timeit\n",
    "from scipy.ndimage import convolve1d\n",
    "from scipy.signal import savgol_filter\n",
    "from pywt import threshold, wavedec, Wavelet, waverec"
   ]
  },
  {
   "cell_type": "code",
   "execution_count": 112,
   "metadata": {},
   "outputs": [],
   "source": [
    "def get_default_thrs(axis):\n",
    "\tdetail_coeffs \t= wavedec(data, wavelet='db1', level=1, axis=axis)[1]\n",
    "\tnoise_level \t= np.median(abs(detail_coeffs), axis=axis)\n",
    "\tthrs \t\t\t= noise_level*math.sqrt(2*math.log(data.shape[axis]))/0.6745\n",
    "\treturn thrs"
   ]
  },
  {
   "cell_type": "code",
   "execution_count": 103,
   "metadata": {},
   "outputs": [],
   "source": [
    "def decompose_data(wavelet):\n",
    "\treturn wavedec(data, wavelet, level=l)"
   ]
  },
  {
   "cell_type": "code",
   "execution_count": 468,
   "metadata": {},
   "outputs": [],
   "source": [
    "def apply_thr(coeffs, thrs):\n",
    "\tcoeffs_array \t= np.array(coeffs)\n",
    "\tapp_coeffs \t\t= coeffs_array[0].copy()\n",
    "\n",
    "\tcoeffs_array \t\t= threshold(coeffs_array, thrs, 'soft')\n",
    "\tcoeffs_array[0] \t= app_coeffs\n",
    "        \n",
    "\treturn list(coeffs_array)"
   ]
  },
  {
   "cell_type": "code",
   "execution_count": 473,
   "metadata": {},
   "outputs": [],
   "source": [
    "def reconstruct_coeffs(thr_coeffs, wavelet):\n",
    "\treturn waverec(thr_coeffs, wavelet)[:,:-1]"
   ]
  },
  {
   "cell_type": "code",
   "execution_count": 498,
   "metadata": {},
   "outputs": [],
   "source": [
    "data = np.array([[1, 2, 3, 4, 5, 6], [3,3,3,3,3,3]])"
   ]
  },
  {
   "cell_type": "code",
   "execution_count": 499,
   "metadata": {},
   "outputs": [],
   "source": [
    "wname = 'sym3';\n",
    "l = 5;"
   ]
  },
  {
   "cell_type": "code",
   "execution_count": 500,
   "metadata": {},
   "outputs": [],
   "source": [
    "axis \t\t= 0 if data.ndim == 1 else 1\n",
    "wavelet \t= Wavelet(wname)"
   ]
  },
  {
   "cell_type": "code",
   "execution_count": 501,
   "metadata": {},
   "outputs": [
    {
     "data": {
      "text/plain": [
       "1"
      ]
     },
     "execution_count": 501,
     "metadata": {},
     "output_type": "execute_result"
    }
   ],
   "source": [
    "axis"
   ]
  },
  {
   "cell_type": "code",
   "execution_count": 465,
   "metadata": {},
   "outputs": [],
   "source": [
    "thrs \t\t= get_default_thrs(axis)"
   ]
  },
  {
   "cell_type": "code",
   "execution_count": 469,
   "metadata": {},
   "outputs": [],
   "source": [
    "coeffs \t\t= decompose_data(wavelet)"
   ]
  },
  {
   "cell_type": "code",
   "execution_count": 470,
   "metadata": {},
   "outputs": [],
   "source": [
    "thr_coeffs\t= apply_thr(coeffs, thrs)"
   ]
  },
  {
   "cell_type": "code",
   "execution_count": 474,
   "metadata": {},
   "outputs": [],
   "source": [
    "thr_data \t= reconstruct_coeffs(thr_coeffs, wavelet)"
   ]
  },
  {
   "cell_type": "code",
   "execution_count": 546,
   "metadata": {},
   "outputs": [],
   "source": [
    "def teste(data):\n",
    "    assert data.ndim <= 2, 'Inválido!!, é pra ser ' + str(2)\n",
    "    \n",
    "    print('kaka')"
   ]
  },
  {
   "cell_type": "code",
   "execution_count": 571,
   "metadata": {},
   "outputs": [],
   "source": [
    "data = np.array([1,2,3,4,5,6,7,8,9,10])\n",
    "data2 = np.array([[1,2,3,4,5,6,7,8,9,10], [1,2,3,4,5,6,7,8,9,10]])"
   ]
  },
  {
   "cell_type": "code",
   "execution_count": 602,
   "metadata": {},
   "outputs": [],
   "source": [
    "w_length = 3\n",
    "p_order = 2\n",
    "d_order = 1"
   ]
  },
  {
   "cell_type": "code",
   "execution_count": 622,
   "metadata": {},
   "outputs": [],
   "source": [
    "def fit_reg_line(row, mean):\n",
    "\treturn np.polyfit(mean, row, 1)\n",
    "\n",
    "def apply_correction(coeffs):\n",
    "\tnew_data = np.zeros((data2.shape[0],data2.shape[1]))\n",
    "\n",
    "\tfor i in range(data2.shape[0]):\n",
    "\t\tnew_data[i,:] = (data2[i,:]-coeffs[i,1])/coeffs[i,0]\n",
    "\n",
    "\t\treturn new_data\n",
    "\n",
    "mean \t\t= np.mean(data2, axis=0)\n",
    "coeffs \t\t= np.apply_along_axis(fit_reg_line, 1, data2, mean)\n",
    "new_data \t= apply_correction(coeffs)"
   ]
  },
  {
   "cell_type": "code",
   "execution_count": 623,
   "metadata": {},
   "outputs": [
    {
     "data": {
      "text/plain": [
       "array([0.5, 1. , 1.5, 2. , 2.5, 3. , 3.5, 4. , 4.5, 5. ])"
      ]
     },
     "execution_count": 623,
     "metadata": {},
     "output_type": "execute_result"
    }
   ],
   "source": [
    "mean"
   ]
  },
  {
   "cell_type": "code",
   "execution_count": 621,
   "metadata": {},
   "outputs": [],
   "source": [
    "data2 = new_data"
   ]
  },
  {
   "cell_type": "code",
   "execution_count": 617,
   "metadata": {},
   "outputs": [
    {
     "data": {
      "text/plain": [
       "array([[ 1.,  2.,  3.,  4.,  5.,  6.,  7.,  8.,  9., 10.],\n",
       "       [ 0.,  0.,  0.,  0.,  0.,  0.,  0.,  0.,  0.,  0.]])"
      ]
     },
     "execution_count": 617,
     "metadata": {},
     "output_type": "execute_result"
    }
   ],
   "source": [
    "new_data"
   ]
  }
 ],
 "metadata": {
  "kernelspec": {
   "display_name": "Python 3",
   "language": "python",
   "name": "python3"
  },
  "language_info": {
   "codemirror_mode": {
    "name": "ipython",
    "version": 3
   },
   "file_extension": ".py",
   "mimetype": "text/x-python",
   "name": "python",
   "nbconvert_exporter": "python",
   "pygments_lexer": "ipython3",
   "version": "3.7.1"
  }
 },
 "nbformat": 4,
 "nbformat_minor": 2
}
