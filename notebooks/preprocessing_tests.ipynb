{
 "cells": [
  {
   "cell_type": "code",
   "execution_count": 1,
   "metadata": {},
   "outputs": [],
   "source": [
    "import numpy as np\n",
    "import math\n",
    "import timeit\n",
    "from scipy.ndimage import convolve1d\n",
    "from scipy.signal import savgol_filter\n",
    "from pywt import threshold, wavedec, Wavelet, waverec"
   ]
  },
  {
   "cell_type": "code",
   "execution_count": 112,
   "metadata": {},
   "outputs": [],
   "source": [
    "def get_default_thrs(axis):\n",
    "\tdetail_coeffs \t= wavedec(data, wavelet='db1', level=1, axis=axis)[1]\n",
    "\tnoise_level \t= np.median(abs(detail_coeffs), axis=axis)\n",
    "\tthrs \t\t\t= noise_level*math.sqrt(2*math.log(data.shape[axis]))/0.6745\n",
    "\treturn thrs"
   ]
  },
  {
   "cell_type": "code",
   "execution_count": 103,
   "metadata": {},
   "outputs": [],
   "source": [
    "def decompose_data(wavelet):\n",
    "\treturn wavedec(data, wavelet, level=l)"
   ]
  },
  {
   "cell_type": "code",
   "execution_count": 468,
   "metadata": {},
   "outputs": [],
   "source": [
    "def apply_thr(coeffs, thrs):\n",
    "\tcoeffs_array \t= np.array(coeffs)\n",
    "\tapp_coeffs \t\t= coeffs_array[0].copy()\n",
    "\n",
    "\tcoeffs_array \t\t= threshold(coeffs_array, thrs, 'soft')\n",
    "\tcoeffs_array[0] \t= app_coeffs\n",
    "        \n",
    "\treturn list(coeffs_array)"
   ]
  },
  {
   "cell_type": "code",
   "execution_count": 473,
   "metadata": {},
   "outputs": [],
   "source": [
    "def reconstruct_coeffs(thr_coeffs, wavelet):\n",
    "\treturn waverec(thr_coeffs, wavelet)[:,:-1]"
   ]
  },
  {
   "cell_type": "code",
   "execution_count": 2,
   "metadata": {},
   "outputs": [],
   "source": [
    "data = np.array([[1, 2, 3, 4, 5, 6], [3,3,3,3,3,3]])"
   ]
  },
  {
   "cell_type": "code",
   "execution_count": 499,
   "metadata": {},
   "outputs": [],
   "source": [
    "wname = 'sym3';\n",
    "l = 5;"
   ]
  },
  {
   "cell_type": "code",
   "execution_count": 500,
   "metadata": {},
   "outputs": [],
   "source": [
    "axis \t\t= 0 if data.ndim == 1 else 1\n",
    "wavelet \t= Wavelet(wname)"
   ]
  },
  {
   "cell_type": "code",
   "execution_count": 501,
   "metadata": {},
   "outputs": [
    {
     "data": {
      "text/plain": [
       "1"
      ]
     },
     "execution_count": 501,
     "metadata": {},
     "output_type": "execute_result"
    }
   ],
   "source": [
    "axis"
   ]
  },
  {
   "cell_type": "code",
   "execution_count": 465,
   "metadata": {},
   "outputs": [],
   "source": [
    "thrs \t\t= get_default_thrs(axis)"
   ]
  },
  {
   "cell_type": "code",
   "execution_count": 469,
   "metadata": {},
   "outputs": [],
   "source": [
    "coeffs \t\t= decompose_data(wavelet)"
   ]
  },
  {
   "cell_type": "code",
   "execution_count": 470,
   "metadata": {},
   "outputs": [],
   "source": [
    "thr_coeffs\t= apply_thr(coeffs, thrs)"
   ]
  },
  {
   "cell_type": "code",
   "execution_count": 474,
   "metadata": {},
   "outputs": [],
   "source": [
    "thr_data \t= reconstruct_coeffs(thr_coeffs, wavelet)"
   ]
  },
  {
   "cell_type": "code",
   "execution_count": 16,
   "metadata": {},
   "outputs": [],
   "source": [
    "data = np.array([1,2,3,4,5,6,7,8,9,10])\n",
    "data2 = np.array([[1,2,3,4,5,6,7,8,9,10], [1,2,3,4,5,6,7,8,9,10]])"
   ]
  },
  {
   "cell_type": "code",
   "execution_count": 62,
   "metadata": {},
   "outputs": [],
   "source": [
    "def snv(data):\n",
    "# \tassert data.ndim <= 2, \"Matrizes com mais de 2 dimensões não são aceitas.\"\n",
    "# \tassert data.shape == self.dimensions, \"Matriz com dimensões inválidas! Espera-se \" + str(self.dimensions) + \", mas \" + str(data.shape) + \" foi passado.\"\n",
    "\n",
    "\tdef apply_correction(mean, std):\n",
    "\t\t# new_data = np.zeros((data.shape[0],data.shape[1]))\n",
    "\t\tnew_data = (data.transpose()-mean)/std\n",
    "\n",
    "\t\treturn new_data.transpose()\n",
    "\n",
    "\taxis \t\t= 0 if data.ndim == 1 else 1\n",
    "\tmean \t\t= np.mean(data, axis=axis)\n",
    "\tstd \t\t= np.std(data, axis=axis)\n",
    "\tnew_data\t= apply_correction(mean, std)\n",
    "\n",
    "\treturn new_data"
   ]
  },
  {
   "cell_type": "code",
   "execution_count": 67,
   "metadata": {},
   "outputs": [],
   "source": [
    "res2 = snv(data2)"
   ]
  },
  {
   "cell_type": "code",
   "execution_count": 66,
   "metadata": {},
   "outputs": [
    {
     "data": {
      "text/plain": [
       "array([-1.5666989 , -1.21854359, -0.87038828, -0.52223297, -0.17407766,\n",
       "        0.17407766,  0.52223297,  0.87038828,  1.21854359,  1.5666989 ])"
      ]
     },
     "execution_count": 66,
     "metadata": {},
     "output_type": "execute_result"
    }
   ],
   "source": [
    "res"
   ]
  },
  {
   "cell_type": "code",
   "execution_count": 68,
   "metadata": {},
   "outputs": [
    {
     "data": {
      "text/plain": [
       "array([[-1.5666989 , -1.21854359, -0.87038828, -0.52223297, -0.17407766,\n",
       "         0.17407766,  0.52223297,  0.87038828,  1.21854359,  1.5666989 ],\n",
       "       [-1.5666989 , -1.21854359, -0.87038828, -0.52223297, -0.17407766,\n",
       "         0.17407766,  0.52223297,  0.87038828,  1.21854359,  1.5666989 ]])"
      ]
     },
     "execution_count": 68,
     "metadata": {},
     "output_type": "execute_result"
    }
   ],
   "source": [
    "res2"
   ]
  }
 ],
 "metadata": {
  "kernelspec": {
   "display_name": "Python 3",
   "language": "python",
   "name": "python3"
  },
  "language_info": {
   "codemirror_mode": {
    "name": "ipython",
    "version": 3
   },
   "file_extension": ".py",
   "mimetype": "text/x-python",
   "name": "python",
   "nbconvert_exporter": "python",
   "pygments_lexer": "ipython3",
   "version": "3.6.7"
  }
 },
 "nbformat": 4,
 "nbformat_minor": 2
}
