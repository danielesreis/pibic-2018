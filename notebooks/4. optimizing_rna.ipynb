{
 "cells": [
  {
   "cell_type": "code",
   "execution_count": 11,
   "metadata": {},
   "outputs": [],
   "source": [
    "import pandas as pd\n",
    "import numpy as np\n",
    "import math\n",
    "from sklearn.neural_network import MLPRegressor\n",
    "from sklearn.model_selection import train_test_split\n",
    "from sklearn.metrics import mean_squared_error"
   ]
  },
  {
   "cell_type": "code",
   "execution_count": null,
   "metadata": {},
   "outputs": [],
   "source": []
  },
  {
   "cell_type": "code",
   "execution_count": null,
   "metadata": {},
   "outputs": [],
   "source": [
    "# import data and perform train_test_split"
   ]
  },
  {
   "cell_type": "markdown",
   "metadata": {},
   "source": [
    "# considering PLS-RNA"
   ]
  },
  {
   "cell_type": "code",
   "execution_count": 12,
   "metadata": {},
   "outputs": [],
   "source": [
    "hidden_nodes = [3, 4, 5, 6, 7]\n",
    "learning_rates = [0.1, 0.2, 0.3, 0.4, 0.5]\n",
    "# Considering number of iterations as stop criteria. Should it be RPD instead? lmaoo\n",
    "iterations = [100, 500, 1000, 1500, 2000, 2500]\n",
    "cols = ['Hidden nodes', 'Learning rate', 'Iterations', 'RMSEP']\n",
    "\n",
    "errors = pd.DataFrame(index=np.arange(len(hidden_nodes)*len(learning_rates)*len(iterations)),columns=cols)"
   ]
  },
  {
   "cell_type": "code",
   "execution_count": null,
   "metadata": {},
   "outputs": [],
   "source": [
    "ind = 0\n",
    "for hidden_node in hidden_nodes:\n",
    "    for learning_rate in learning_rates:\n",
    "        for iteration in iterations:\n",
    "            rna = MLPRegressor(hidden_node, 'logistic', learning_rate, iteration)\n",
    "            rna = rna.fit(X_train, Y_train)\n",
    "            Y_pred = rna.predict(X_test)\n",
    "            rmsep = math.sqrt(mean_squared_error(Y_test, Y_pred))\n",
    "            \n",
    "            row = pd.Series(index=cols, data=[hidden_node, learning_rate, iteration, rmsep])\n",
    "            errors.iloc[ind] = row\n",
    "            ind += 1"
   ]
  }
 ],
 "metadata": {
  "kernelspec": {
   "display_name": "Python 3",
   "language": "python",
   "name": "python3"
  },
  "language_info": {
   "codemirror_mode": {
    "name": "ipython",
    "version": 3
   },
   "file_extension": ".py",
   "mimetype": "text/x-python",
   "name": "python",
   "nbconvert_exporter": "python",
   "pygments_lexer": "ipython3",
   "version": "3.6.7"
  }
 },
 "nbformat": 4,
 "nbformat_minor": 2
}
