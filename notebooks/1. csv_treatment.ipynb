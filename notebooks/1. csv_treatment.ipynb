{
 "cells": [
  {
   "cell_type": "code",
   "execution_count": 1,
   "metadata": {},
   "outputs": [],
   "source": [
    "# In this notebook I remove the incorrect data (the ones with weird dates) and the wrong quality/felix data.\n",
    "# I probably won't need this again (the quality/felix removal part) since Iara did it manually shortly after."
   ]
  },
  {
   "cell_type": "code",
   "execution_count": 50,
   "metadata": {},
   "outputs": [],
   "source": [
    "import pandas as pd\n",
    "from datetime import datetime\n",
    "import math\n",
    "import re"
   ]
  },
  {
   "cell_type": "code",
   "execution_count": null,
   "metadata": {},
   "outputs": [],
   "source": [
    "df = pd.read_csv('../data/absorbance/raw.csv')"
   ]
  },
  {
   "cell_type": "markdown",
   "metadata": {},
   "source": [
    "# extracting the year, so that we can remove the wrong data"
   ]
  },
  {
   "cell_type": "code",
   "execution_count": 39,
   "metadata": {},
   "outputs": [],
   "source": [
    "regex = '^\\w+.\\w+,\\d{2}/\\d{2}/(\\d{4})$'"
   ]
  },
  {
   "cell_type": "code",
   "execution_count": 40,
   "metadata": {},
   "outputs": [],
   "source": [
    "df['year'] = df[df.columns.values[0]].apply(lambda x: re.findall(regex, x)[0])"
   ]
  },
  {
   "cell_type": "markdown",
   "metadata": {},
   "source": [
    "# dropping data with wrong date"
   ]
  },
  {
   "cell_type": "code",
   "execution_count": 41,
   "metadata": {},
   "outputs": [],
   "source": [
    "rows_to_drop = df[df['year'] == '1601']\n",
    "df.drop(rows_to_drop.index, inplace=True)"
   ]
  },
  {
   "cell_type": "code",
   "execution_count": 42,
   "metadata": {},
   "outputs": [],
   "source": [
    "df.reset_index(drop=True, inplace=True)"
   ]
  },
  {
   "cell_type": "markdown",
   "metadata": {},
   "source": [
    "# getting shelf life and treatment info"
   ]
  },
  {
   "cell_type": "code",
   "execution_count": 43,
   "metadata": {},
   "outputs": [],
   "source": [
    "regex = '^\\w*(T\\d)(B\\d)(\\d)'"
   ]
  },
  {
   "cell_type": "code",
   "execution_count": 44,
   "metadata": {},
   "outputs": [],
   "source": [
    "df['TREATMENT'] = df['Filename,'].apply(lambda x: re.findall(regex, x)[0][0])\n",
    "df['BLOCK'] = df['Filename,'].apply(lambda x: re.findall(regex, x)[0][1])\n",
    "df['SHELF-LIFE'] = df['Filename,'].apply(lambda x: re.findall(regex, x)[0][2])"
   ]
  },
  {
   "cell_type": "markdown",
   "metadata": {},
   "source": [
    "# removing unnecessary info"
   ]
  },
  {
   "cell_type": "code",
   "execution_count": 45,
   "metadata": {},
   "outputs": [],
   "source": [
    "cols = list(df.columns.values[:2])\n",
    "cols.append('year')"
   ]
  },
  {
   "cell_type": "code",
   "execution_count": 46,
   "metadata": {},
   "outputs": [],
   "source": [
    "df.drop(cols, axis=1, inplace=True)"
   ]
  },
  {
   "cell_type": "code",
   "execution_count": null,
   "metadata": {},
   "outputs": [],
   "source": []
  },
  {
   "cell_type": "markdown",
   "metadata": {},
   "source": [
    "# saving new data"
   ]
  },
  {
   "cell_type": "code",
   "execution_count": 47,
   "metadata": {},
   "outputs": [],
   "source": [
    "df.to_csv('../data/absorbance/treated.csv')"
   ]
  },
  {
   "cell_type": "markdown",
   "metadata": {},
   "source": [
    "# extracted reflectance from sérgio's machine"
   ]
  },
  {
   "cell_type": "code",
   "execution_count": 173,
   "metadata": {},
   "outputs": [],
   "source": [
    "df = pd.read_csv('../data/absorbance/ref.csv')"
   ]
  },
  {
   "cell_type": "code",
   "execution_count": 174,
   "metadata": {},
   "outputs": [],
   "source": [
    "df = df.applymap(lambda x: float(x))"
   ]
  },
  {
   "cell_type": "code",
   "execution_count": 175,
   "metadata": {},
   "outputs": [],
   "source": [
    "df = df.applymap(lambda x: x if x <= 0 else math.log(1/x))"
   ]
  },
  {
   "cell_type": "code",
   "execution_count": 176,
   "metadata": {},
   "outputs": [],
   "source": [
    "old = pd.read_csv('../data/final/firmness_all_bands.csv')\n",
    "\n",
    "df.insert(loc=0, column='TREATMENT', value=old['TREATMENT'])\n",
    "df.insert(loc=1, column='BLOCK', value=old['BLOCK'])\n",
    "df.insert(loc=2, column='SHELF-LIFE', value=old['SHELF-LIFE'].astype(str))"
   ]
  },
  {
   "cell_type": "code",
   "execution_count": null,
   "metadata": {},
   "outputs": [],
   "source": []
  },
  {
   "cell_type": "markdown",
   "metadata": {},
   "source": [
    "# removing wrong felix data"
   ]
  },
  {
   "cell_type": "code",
   "execution_count": null,
   "metadata": {},
   "outputs": [],
   "source": []
  },
  {
   "cell_type": "code",
   "execution_count": 177,
   "metadata": {},
   "outputs": [
    {
     "name": "stderr",
     "output_type": "stream",
     "text": [
      "/home/danielesreis/.local/lib/python3.6/site-packages/ipykernel_launcher.py:4: UserWarning: Boolean Series key will be reindexed to match DataFrame index.\n",
      "  after removing the cwd from sys.path.\n"
     ]
    },
    {
     "data": {
      "text/html": [
       "<div>\n",
       "<style scoped>\n",
       "    .dataframe tbody tr th:only-of-type {\n",
       "        vertical-align: middle;\n",
       "    }\n",
       "\n",
       "    .dataframe tbody tr th {\n",
       "        vertical-align: top;\n",
       "    }\n",
       "\n",
       "    .dataframe thead th {\n",
       "        text-align: right;\n",
       "    }\n",
       "</style>\n",
       "<table border=\"1\" class=\"dataframe\">\n",
       "  <thead>\n",
       "    <tr style=\"text-align: right;\">\n",
       "      <th></th>\n",
       "      <th>TREATMENT</th>\n",
       "      <th>BLOCK</th>\n",
       "      <th>SHELF-LIFE</th>\n",
       "      <th>301457</th>\n",
       "      <th>304.7677</th>\n",
       "      <th>308.0792</th>\n",
       "      <th>311.3915</th>\n",
       "      <th>314.7047</th>\n",
       "      <th>318.0186</th>\n",
       "      <th>321.3333</th>\n",
       "      <th>...</th>\n",
       "      <th>1111735</th>\n",
       "      <th>1114892</th>\n",
       "      <th>1118047</th>\n",
       "      <th>1121199</th>\n",
       "      <th>1124.35</th>\n",
       "      <th>1127498</th>\n",
       "      <th>1130645</th>\n",
       "      <th>1133789</th>\n",
       "      <th>1136931</th>\n",
       "      <th>1140071</th>\n",
       "    </tr>\n",
       "  </thead>\n",
       "  <tbody>\n",
       "    <tr>\n",
       "      <th>710</th>\n",
       "      <td>T6</td>\n",
       "      <td>B1</td>\n",
       "      <td>1</td>\n",
       "      <td>0.0</td>\n",
       "      <td>0.0</td>\n",
       "      <td>0.0</td>\n",
       "      <td>0.0</td>\n",
       "      <td>0.0</td>\n",
       "      <td>0.0</td>\n",
       "      <td>0.0</td>\n",
       "      <td>...</td>\n",
       "      <td>-0.639354</td>\n",
       "      <td>-0.556620</td>\n",
       "      <td>-0.403852</td>\n",
       "      <td>-0.254398</td>\n",
       "      <td>-0.040088</td>\n",
       "      <td>0.303237</td>\n",
       "      <td>0.634770</td>\n",
       "      <td>2.044289</td>\n",
       "      <td>0.0</td>\n",
       "      <td>1.750677</td>\n",
       "    </tr>\n",
       "    <tr>\n",
       "      <th>711</th>\n",
       "      <td>T6</td>\n",
       "      <td>B1</td>\n",
       "      <td>1</td>\n",
       "      <td>0.0</td>\n",
       "      <td>0.0</td>\n",
       "      <td>0.0</td>\n",
       "      <td>0.0</td>\n",
       "      <td>0.0</td>\n",
       "      <td>0.0</td>\n",
       "      <td>0.0</td>\n",
       "      <td>...</td>\n",
       "      <td>-0.573940</td>\n",
       "      <td>-0.495837</td>\n",
       "      <td>-0.298129</td>\n",
       "      <td>-0.177933</td>\n",
       "      <td>0.221039</td>\n",
       "      <td>0.530230</td>\n",
       "      <td>1.863197</td>\n",
       "      <td>3.834368</td>\n",
       "      <td>0.0</td>\n",
       "      <td>0.000000</td>\n",
       "    </tr>\n",
       "  </tbody>\n",
       "</table>\n",
       "<p>2 rows × 259 columns</p>\n",
       "</div>"
      ],
      "text/plain": [
       "    TREATMENT BLOCK SHELF-LIFE  301457  304.7677  308.0792  311.3915  \\\n",
       "710        T6    B1          1     0.0       0.0       0.0       0.0   \n",
       "711        T6    B1          1     0.0       0.0       0.0       0.0   \n",
       "\n",
       "     314.7047  318.0186  321.3333  ...   1111735   1114892   1118047  \\\n",
       "710       0.0       0.0       0.0  ... -0.639354 -0.556620 -0.403852   \n",
       "711       0.0       0.0       0.0  ... -0.573940 -0.495837 -0.298129   \n",
       "\n",
       "      1121199   1124.35   1127498   1130645   1133789  1136931   1140071  \n",
       "710 -0.254398 -0.040088  0.303237  0.634770  2.044289      0.0  1.750677  \n",
       "711 -0.177933  0.221039  0.530230  1.863197  3.834368      0.0  0.000000  \n",
       "\n",
       "[2 rows x 259 columns]"
      ]
     },
     "execution_count": 177,
     "metadata": {},
     "output_type": "execute_result"
    }
   ],
   "source": [
    "# Removing these bc in the felix data, there are 20 samples for B1 and 24 for B3, whereas in the quality .csv\n",
    "# there are 42 samples in total. Assuming that the 24 B3 samples are correct (since this should be the exact\n",
    "# value), there should be only 18 samples for B1. Thus, I'm removing the last two from B1\n",
    "df[df['TREATMENT'] == 'T6'][df['SHELF-LIFE'] == '1'][df['BLOCK']=='B1'].tail(2)"
   ]
  },
  {
   "cell_type": "code",
   "execution_count": 178,
   "metadata": {},
   "outputs": [],
   "source": [
    "df.drop([708, 709], inplace=True)\n",
    "df.reset_index(drop=True, inplace=True)"
   ]
  },
  {
   "cell_type": "code",
   "execution_count": 179,
   "metadata": {},
   "outputs": [],
   "source": [
    "df.to_csv('../data/absorbance/abs_sergio_wo_incorrect.csv')"
   ]
  },
  {
   "cell_type": "markdown",
   "metadata": {},
   "source": [
    "# getting quality data"
   ]
  },
  {
   "cell_type": "code",
   "execution_count": 180,
   "metadata": {},
   "outputs": [],
   "source": [
    "qlt = pd.read_csv('../data/quality/raw.csv')"
   ]
  },
  {
   "cell_type": "code",
   "execution_count": 181,
   "metadata": {},
   "outputs": [],
   "source": [
    "qlt.drop(columns=['LEVELS'], inplace=True)\n",
    "qlt['TREATMENT'] = qlt['TREATMENT'].apply(lambda x: str(x))\n",
    "qlt['SHELF-LIFE'] = qlt['SHELF-LIFE'].apply(lambda x: str(x))"
   ]
  },
  {
   "cell_type": "markdown",
   "metadata": {},
   "source": [
    "# removing wrong quality data"
   ]
  },
  {
   "cell_type": "code",
   "execution_count": 182,
   "metadata": {},
   "outputs": [
    {
     "name": "stderr",
     "output_type": "stream",
     "text": [
      "/home/danielesreis/.local/lib/python3.6/site-packages/ipykernel_launcher.py:3: UserWarning: Boolean Series key will be reindexed to match DataFrame index.\n",
      "  This is separate from the ipykernel package so we can avoid doing imports until\n"
     ]
    },
    {
     "data": {
      "text/html": [
       "<div>\n",
       "<style scoped>\n",
       "    .dataframe tbody tr th:only-of-type {\n",
       "        vertical-align: middle;\n",
       "    }\n",
       "\n",
       "    .dataframe tbody tr th {\n",
       "        vertical-align: top;\n",
       "    }\n",
       "\n",
       "    .dataframe thead th {\n",
       "        text-align: right;\n",
       "    }\n",
       "</style>\n",
       "<table border=\"1\" class=\"dataframe\">\n",
       "  <thead>\n",
       "    <tr style=\"text-align: right;\">\n",
       "      <th></th>\n",
       "      <th>SHELF-LIFE</th>\n",
       "      <th>TREATMENT</th>\n",
       "      <th>NUM</th>\n",
       "      <th>FRESH MASS</th>\n",
       "      <th>L</th>\n",
       "      <th>C</th>\n",
       "      <th>H</th>\n",
       "      <th>FIRMNESS</th>\n",
       "      <th>LP</th>\n",
       "      <th>CP</th>\n",
       "      <th>HP</th>\n",
       "      <th>SST</th>\n",
       "      <th>TOTAL ACIDITY</th>\n",
       "      <th>DRY MASS</th>\n",
       "    </tr>\n",
       "  </thead>\n",
       "  <tbody>\n",
       "    <tr>\n",
       "      <th>492</th>\n",
       "      <td>1</td>\n",
       "      <td>T4</td>\n",
       "      <td>23</td>\n",
       "      <td>513.28</td>\n",
       "      <td>65.47</td>\n",
       "      <td>52.12</td>\n",
       "      <td>62.20</td>\n",
       "      <td>6.9</td>\n",
       "      <td>59.83</td>\n",
       "      <td>64.26</td>\n",
       "      <td>79.27</td>\n",
       "      <td>16.5</td>\n",
       "      <td>NaN</td>\n",
       "      <td>20.51</td>\n",
       "    </tr>\n",
       "    <tr>\n",
       "      <th>493</th>\n",
       "      <td>1</td>\n",
       "      <td>T4</td>\n",
       "      <td>24</td>\n",
       "      <td>513.28</td>\n",
       "      <td>71.87</td>\n",
       "      <td>56.41</td>\n",
       "      <td>78.29</td>\n",
       "      <td>13.8</td>\n",
       "      <td>66.32</td>\n",
       "      <td>67.88</td>\n",
       "      <td>79.67</td>\n",
       "      <td>16.2</td>\n",
       "      <td>NaN</td>\n",
       "      <td>19.98</td>\n",
       "    </tr>\n",
       "  </tbody>\n",
       "</table>\n",
       "</div>"
      ],
      "text/plain": [
       "    SHELF-LIFE TREATMENT  NUM  FRESH MASS      L      C      H  FIRMNESS  \\\n",
       "492          1        T4   23      513.28  65.47  52.12  62.20       6.9   \n",
       "493          1        T4   24      513.28  71.87  56.41  78.29      13.8   \n",
       "\n",
       "        LP     CP     HP   SST  TOTAL ACIDITY  DRY MASS  \n",
       "492  59.83  64.26  79.27  16.5            NaN     20.51  \n",
       "493  66.32  67.88  79.67  16.2            NaN     19.98  "
      ]
     },
     "execution_count": 182,
     "metadata": {},
     "output_type": "execute_result"
    }
   ],
   "source": [
    "# removing from quality data bc there are 46 samples from felix and 48 from quality .csv. B3 is supposedly correct,\n",
    "# because it contains 24 felix samples, whereas there's 22 B1 samples. So, I'm gonna remove the last two from B1.\n",
    "qlt[qlt['TREATMENT']=='T4'][qlt['SHELF-LIFE']=='1'].iloc[22:24]"
   ]
  },
  {
   "cell_type": "code",
   "execution_count": 183,
   "metadata": {},
   "outputs": [],
   "source": [
    "qlt.drop([492, 493], inplace=True)\n",
    "qlt.reset_index(drop=True, inplace=True)"
   ]
  },
  {
   "cell_type": "code",
   "execution_count": 184,
   "metadata": {},
   "outputs": [],
   "source": [
    "qlt.to_csv('../data/quality/treated_wo_incorrect.csv')"
   ]
  },
  {
   "cell_type": "markdown",
   "metadata": {},
   "source": [
    "# indexing by treatment and shelf-life to allow assignment"
   ]
  },
  {
   "cell_type": "code",
   "execution_count": 209,
   "metadata": {},
   "outputs": [],
   "source": [
    "new_df = df.sort_values(by=['TREATMENT', 'SHELF-LIFE']).reset_index(drop=True)"
   ]
  },
  {
   "cell_type": "code",
   "execution_count": 211,
   "metadata": {},
   "outputs": [],
   "source": [
    "new_qlt = qlt.sort_values(by=['TREATMENT', 'SHELF-LIFE']).reset_index(drop=True)"
   ]
  },
  {
   "cell_type": "code",
   "execution_count": 212,
   "metadata": {},
   "outputs": [],
   "source": [
    "attrs = list(new_qlt.columns[3:].values)\n",
    "for att in attrs:\n",
    "    new_df[att] = new_qlt[att]"
   ]
  },
  {
   "cell_type": "code",
   "execution_count": 218,
   "metadata": {},
   "outputs": [],
   "source": [
    "cols = ['TREATMENT', 'BLOCK', 'SHELF-LIFE'] + attrs + list(new_df.columns[3:-11].values)"
   ]
  },
  {
   "cell_type": "code",
   "execution_count": 219,
   "metadata": {},
   "outputs": [],
   "source": [
    "new_df = new_df[cols]"
   ]
  },
  {
   "cell_type": "code",
   "execution_count": 221,
   "metadata": {},
   "outputs": [],
   "source": [
    "new_df.to_csv('../data/final/sergio.csv')"
   ]
  },
  {
   "cell_type": "code",
   "execution_count": null,
   "metadata": {},
   "outputs": [],
   "source": []
  }
 ],
 "metadata": {
  "kernelspec": {
   "display_name": "Python 3",
   "language": "python",
   "name": "python3"
  },
  "language_info": {
   "codemirror_mode": {
    "name": "ipython",
    "version": 3
   },
   "file_extension": ".py",
   "mimetype": "text/x-python",
   "name": "python",
   "nbconvert_exporter": "python",
   "pygments_lexer": "ipython3",
   "version": "3.6.7"
  }
 },
 "nbformat": 4,
 "nbformat_minor": 2
}
