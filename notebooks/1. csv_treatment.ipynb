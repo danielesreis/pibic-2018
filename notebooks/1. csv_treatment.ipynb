{
 "cells": [
  {
   "cell_type": "code",
   "execution_count": null,
   "metadata": {},
   "outputs": [],
   "source": [
    "# In this notebook I remove the incorrect data (the ones with weird dates) and the wrong quality/felix data.\n",
    "# I probably won't need this again (the quality/felix removal part) since Iara did it manually shortly after."
   ]
  },
  {
   "cell_type": "code",
   "execution_count": 1,
   "metadata": {},
   "outputs": [],
   "source": [
    "import pandas as pd\n",
    "from datetime import datetime\n",
    "import re"
   ]
  },
  {
   "cell_type": "code",
   "execution_count": 2,
   "metadata": {},
   "outputs": [],
   "source": [
    "df = pd.read_csv('../data/absorbance/raw.csv')"
   ]
  },
  {
   "cell_type": "markdown",
   "metadata": {},
   "source": [
    "# extracting the year, so that we can remove the wrong data"
   ]
  },
  {
   "cell_type": "code",
   "execution_count": 3,
   "metadata": {},
   "outputs": [],
   "source": [
    "regex = '^\\w+.\\w+,\\d{2}/\\d{2}/(\\d{4})$'"
   ]
  },
  {
   "cell_type": "code",
   "execution_count": 4,
   "metadata": {},
   "outputs": [],
   "source": [
    "df['year'] = df[df.columns.values[0]].apply(lambda x: re.findall(regex, x)[0])"
   ]
  },
  {
   "cell_type": "markdown",
   "metadata": {},
   "source": [
    "# dropping data with wrong date"
   ]
  },
  {
   "cell_type": "code",
   "execution_count": 5,
   "metadata": {},
   "outputs": [],
   "source": [
    "rows_to_drop = df[df['year'] == '1601']\n",
    "df.drop(rows_to_drop.index, inplace=True)"
   ]
  },
  {
   "cell_type": "code",
   "execution_count": 6,
   "metadata": {},
   "outputs": [],
   "source": [
    "df.reset_index(drop=True, inplace=True)"
   ]
  },
  {
   "cell_type": "markdown",
   "metadata": {},
   "source": [
    "# getting shelf life and treatment info"
   ]
  },
  {
   "cell_type": "code",
   "execution_count": 7,
   "metadata": {},
   "outputs": [],
   "source": [
    "regex = '^\\w*(T\\d)(B\\d)(\\d)'"
   ]
  },
  {
   "cell_type": "code",
   "execution_count": 8,
   "metadata": {},
   "outputs": [],
   "source": [
    "df['TREATMENT'] = df['Filename,'].apply(lambda x: re.findall(regex, x)[0][0])\n",
    "df['BLOCK'] = df['Filename,'].apply(lambda x: re.findall(regex, x)[0][1])\n",
    "df['SHELF-LIFE'] = df['Filename,'].apply(lambda x: re.findall(regex, x)[0][2])"
   ]
  },
  {
   "cell_type": "markdown",
   "metadata": {},
   "source": [
    "# removing unnecessary info"
   ]
  },
  {
   "cell_type": "code",
   "execution_count": 9,
   "metadata": {},
   "outputs": [],
   "source": [
    "cols = list(df.columns.values[:2])\n",
    "cols.append('year')"
   ]
  },
  {
   "cell_type": "code",
   "execution_count": 10,
   "metadata": {},
   "outputs": [],
   "source": [
    "df.drop(cols, axis=1, inplace=True)"
   ]
  },
  {
   "cell_type": "markdown",
   "metadata": {},
   "source": [
    "# saving new data"
   ]
  },
  {
   "cell_type": "code",
   "execution_count": 11,
   "metadata": {},
   "outputs": [],
   "source": [
    "df.to_csv('../data/absorbance/treated.csv')"
   ]
  },
  {
   "cell_type": "markdown",
   "metadata": {},
   "source": [
    "# removing wrong felix data"
   ]
  },
  {
   "cell_type": "code",
   "execution_count": null,
   "metadata": {},
   "outputs": [],
   "source": []
  },
  {
   "cell_type": "code",
   "execution_count": 77,
   "metadata": {},
   "outputs": [
    {
     "name": "stderr",
     "output_type": "stream",
     "text": [
      "/home/danielesreis/.local/lib/python3.6/site-packages/ipykernel_launcher.py:4: UserWarning: Boolean Series key will be reindexed to match DataFrame index.\n",
      "  after removing the cwd from sys.path.\n"
     ]
    },
    {
     "data": {
      "text/html": [
       "<div>\n",
       "<style scoped>\n",
       "    .dataframe tbody tr th:only-of-type {\n",
       "        vertical-align: middle;\n",
       "    }\n",
       "\n",
       "    .dataframe tbody tr th {\n",
       "        vertical-align: top;\n",
       "    }\n",
       "\n",
       "    .dataframe thead th {\n",
       "        text-align: right;\n",
       "    }\n",
       "</style>\n",
       "<table border=\"1\" class=\"dataframe\">\n",
       "  <thead>\n",
       "    <tr style=\"text-align: right;\">\n",
       "      <th></th>\n",
       "      <th>285</th>\n",
       "      <th>288</th>\n",
       "      <th>291</th>\n",
       "      <th>294</th>\n",
       "      <th>297</th>\n",
       "      <th>300</th>\n",
       "      <th>303</th>\n",
       "      <th>306</th>\n",
       "      <th>309</th>\n",
       "      <th>312</th>\n",
       "      <th>...</th>\n",
       "      <th>1182</th>\n",
       "      <th>1185</th>\n",
       "      <th>1188</th>\n",
       "      <th>1191</th>\n",
       "      <th>1194</th>\n",
       "      <th>1197</th>\n",
       "      <th>1200</th>\n",
       "      <th>TREATMENT</th>\n",
       "      <th>BLOCK</th>\n",
       "      <th>SHELF-LIFE</th>\n",
       "    </tr>\n",
       "  </thead>\n",
       "  <tbody>\n",
       "    <tr>\n",
       "      <th>660</th>\n",
       "      <td>0</td>\n",
       "      <td>0</td>\n",
       "      <td>0</td>\n",
       "      <td>0</td>\n",
       "      <td>0</td>\n",
       "      <td>0.0</td>\n",
       "      <td>0</td>\n",
       "      <td>0</td>\n",
       "      <td>0.0</td>\n",
       "      <td>0</td>\n",
       "      <td>...</td>\n",
       "      <td>0</td>\n",
       "      <td>0</td>\n",
       "      <td>0</td>\n",
       "      <td>0</td>\n",
       "      <td>0</td>\n",
       "      <td>0</td>\n",
       "      <td>0</td>\n",
       "      <td>T6</td>\n",
       "      <td>B1</td>\n",
       "      <td>1</td>\n",
       "    </tr>\n",
       "    <tr>\n",
       "      <th>661</th>\n",
       "      <td>0</td>\n",
       "      <td>0</td>\n",
       "      <td>0</td>\n",
       "      <td>0</td>\n",
       "      <td>0</td>\n",
       "      <td>0.0</td>\n",
       "      <td>0</td>\n",
       "      <td>0</td>\n",
       "      <td>0.0</td>\n",
       "      <td>0</td>\n",
       "      <td>...</td>\n",
       "      <td>0</td>\n",
       "      <td>0</td>\n",
       "      <td>0</td>\n",
       "      <td>0</td>\n",
       "      <td>0</td>\n",
       "      <td>0</td>\n",
       "      <td>0</td>\n",
       "      <td>T6</td>\n",
       "      <td>B1</td>\n",
       "      <td>1</td>\n",
       "    </tr>\n",
       "  </tbody>\n",
       "</table>\n",
       "<p>2 rows × 309 columns</p>\n",
       "</div>"
      ],
      "text/plain": [
       "     285  288  291  294  297  300  303  306  309  312  ...  1182  1185  1188  \\\n",
       "660    0    0    0    0    0  0.0    0    0  0.0    0  ...     0     0     0   \n",
       "661    0    0    0    0    0  0.0    0    0  0.0    0  ...     0     0     0   \n",
       "\n",
       "     1191  1194  1197  1200  TREATMENT  BLOCK  SHELF-LIFE  \n",
       "660     0     0     0     0         T6     B1           1  \n",
       "661     0     0     0     0         T6     B1           1  \n",
       "\n",
       "[2 rows x 309 columns]"
      ]
     },
     "execution_count": 77,
     "metadata": {},
     "output_type": "execute_result"
    }
   ],
   "source": [
    "# Removing these bc in the felix data, there are 20 samples for B1 and 24 for B3, whereas in the quality .csv\n",
    "# there are 42 samples in total. Assuming that the 24 B3 samples are correct (since this should be the exact\n",
    "# value), there should be only 18 samples for B1. Thus, I'm removing the last two from B1\n",
    "df[df['TREATMENT'] == 'T6'][df['SHELF-LIFE'] == '1'][df['BLOCK']=='B1'].tail(2)"
   ]
  },
  {
   "cell_type": "code",
   "execution_count": 25,
   "metadata": {},
   "outputs": [
    {
     "name": "stderr",
     "output_type": "stream",
     "text": [
      "/home/danielesreis/.local/lib/python3.6/site-packages/ipykernel_launcher.py:1: UserWarning: Boolean Series key will be reindexed to match DataFrame index.\n",
      "  \"\"\"Entry point for launching an IPython kernel.\n"
     ]
    },
    {
     "data": {
      "text/html": [
       "<div>\n",
       "<style scoped>\n",
       "    .dataframe tbody tr th:only-of-type {\n",
       "        vertical-align: middle;\n",
       "    }\n",
       "\n",
       "    .dataframe tbody tr th {\n",
       "        vertical-align: top;\n",
       "    }\n",
       "\n",
       "    .dataframe thead th {\n",
       "        text-align: right;\n",
       "    }\n",
       "</style>\n",
       "<table border=\"1\" class=\"dataframe\">\n",
       "  <thead>\n",
       "    <tr style=\"text-align: right;\">\n",
       "      <th></th>\n",
       "      <th>SHELF-LIFE</th>\n",
       "      <th>TREATMENT</th>\n",
       "      <th>NUM</th>\n",
       "      <th>FRESH MASS</th>\n",
       "      <th>L</th>\n",
       "      <th>C</th>\n",
       "      <th>H</th>\n",
       "      <th>FIRMNESS</th>\n",
       "      <th>LP</th>\n",
       "      <th>CP</th>\n",
       "      <th>HP</th>\n",
       "      <th>SST</th>\n",
       "      <th>TOTAL ACIDITY</th>\n",
       "      <th>DRY MASS</th>\n",
       "    </tr>\n",
       "  </thead>\n",
       "  <tbody>\n",
       "    <tr>\n",
       "      <th>368</th>\n",
       "      <td>1</td>\n",
       "      <td>T6</td>\n",
       "      <td>11</td>\n",
       "      <td>506.02</td>\n",
       "      <td>69.63</td>\n",
       "      <td>52.93</td>\n",
       "      <td>80.45</td>\n",
       "      <td>10.0</td>\n",
       "      <td>69.08</td>\n",
       "      <td>68.45</td>\n",
       "      <td>82.12</td>\n",
       "      <td>10.9</td>\n",
       "      <td>NaN</td>\n",
       "      <td>17.43</td>\n",
       "    </tr>\n",
       "    <tr>\n",
       "      <th>387</th>\n",
       "      <td>1</td>\n",
       "      <td>T6</td>\n",
       "      <td>30</td>\n",
       "      <td>572.65</td>\n",
       "      <td>70.91</td>\n",
       "      <td>45.16</td>\n",
       "      <td>77.36</td>\n",
       "      <td>10.0</td>\n",
       "      <td>63.01</td>\n",
       "      <td>66.21</td>\n",
       "      <td>76.99</td>\n",
       "      <td>16.6</td>\n",
       "      <td>0.84</td>\n",
       "      <td>19.96</td>\n",
       "    </tr>\n",
       "  </tbody>\n",
       "</table>\n",
       "</div>"
      ],
      "text/plain": [
       "    SHELF-LIFE TREATMENT  NUM  FRESH MASS      L      C      H  FIRMNESS  \\\n",
       "368          1        T6   11      506.02  69.63  52.93  80.45      10.0   \n",
       "387          1        T6   30      572.65  70.91  45.16  77.36      10.0   \n",
       "\n",
       "        LP     CP     HP   SST  TOTAL ACIDITY  DRY MASS  \n",
       "368  69.08  68.45  82.12  10.9            NaN     17.43  \n",
       "387  63.01  66.21  76.99  16.6           0.84     19.96  "
      ]
     },
     "execution_count": 25,
     "metadata": {},
     "output_type": "execute_result"
    }
   ],
   "source": [
    "qlt[qlt['FIRMNESS'] == 10][qlt['TREATMENT'] == 'T6'][qlt['SHELF-LIFE'] == '1']"
   ]
  },
  {
   "cell_type": "code",
   "execution_count": 27,
   "metadata": {},
   "outputs": [
    {
     "data": {
      "text/html": [
       "<div>\n",
       "<style scoped>\n",
       "    .dataframe tbody tr th:only-of-type {\n",
       "        vertical-align: middle;\n",
       "    }\n",
       "\n",
       "    .dataframe tbody tr th {\n",
       "        vertical-align: top;\n",
       "    }\n",
       "\n",
       "    .dataframe thead th {\n",
       "        text-align: right;\n",
       "    }\n",
       "</style>\n",
       "<table border=\"1\" class=\"dataframe\">\n",
       "  <thead>\n",
       "    <tr style=\"text-align: right;\">\n",
       "      <th></th>\n",
       "      <th>SHELF-LIFE</th>\n",
       "      <th>TREATMENT</th>\n",
       "      <th>NUM</th>\n",
       "      <th>FRESH MASS</th>\n",
       "      <th>L</th>\n",
       "      <th>C</th>\n",
       "      <th>H</th>\n",
       "      <th>FIRMNESS</th>\n",
       "      <th>LP</th>\n",
       "      <th>CP</th>\n",
       "      <th>HP</th>\n",
       "      <th>SST</th>\n",
       "      <th>TOTAL ACIDITY</th>\n",
       "      <th>DRY MASS</th>\n",
       "    </tr>\n",
       "  </thead>\n",
       "  <tbody>\n",
       "    <tr>\n",
       "      <th>492</th>\n",
       "      <td>1</td>\n",
       "      <td>T4</td>\n",
       "      <td>23</td>\n",
       "      <td>513.28</td>\n",
       "      <td>65.47</td>\n",
       "      <td>52.12</td>\n",
       "      <td>62.2</td>\n",
       "      <td>6.9</td>\n",
       "      <td>59.83</td>\n",
       "      <td>64.26</td>\n",
       "      <td>79.27</td>\n",
       "      <td>16.5</td>\n",
       "      <td>NaN</td>\n",
       "      <td>20.51</td>\n",
       "    </tr>\n",
       "    <tr>\n",
       "      <th>765</th>\n",
       "      <td>3</td>\n",
       "      <td>T3</td>\n",
       "      <td>32</td>\n",
       "      <td>554.05</td>\n",
       "      <td>66.14</td>\n",
       "      <td>36.83</td>\n",
       "      <td>87.2</td>\n",
       "      <td>52.0</td>\n",
       "      <td>70.01</td>\n",
       "      <td>61.08</td>\n",
       "      <td>80.53</td>\n",
       "      <td>13.3</td>\n",
       "      <td>0.77</td>\n",
       "      <td>20.51</td>\n",
       "    </tr>\n",
       "  </tbody>\n",
       "</table>\n",
       "</div>"
      ],
      "text/plain": [
       "    SHELF-LIFE TREATMENT  NUM  FRESH MASS      L      C     H  FIRMNESS  \\\n",
       "492          1        T4   23      513.28  65.47  52.12  62.2       6.9   \n",
       "765          3        T3   32      554.05  66.14  36.83  87.2      52.0   \n",
       "\n",
       "        LP     CP     HP   SST  TOTAL ACIDITY  DRY MASS  \n",
       "492  59.83  64.26  79.27  16.5            NaN     20.51  \n",
       "765  70.01  61.08  80.53  13.3           0.77     20.51  "
      ]
     },
     "execution_count": 27,
     "metadata": {},
     "output_type": "execute_result"
    }
   ],
   "source": [
    "qlt[qlt['DRY MASS'] == 20.51]"
   ]
  },
  {
   "cell_type": "code",
   "execution_count": 29,
   "metadata": {},
   "outputs": [
    {
     "data": {
      "text/html": [
       "<div>\n",
       "<style scoped>\n",
       "    .dataframe tbody tr th:only-of-type {\n",
       "        vertical-align: middle;\n",
       "    }\n",
       "\n",
       "    .dataframe tbody tr th {\n",
       "        vertical-align: top;\n",
       "    }\n",
       "\n",
       "    .dataframe thead th {\n",
       "        text-align: right;\n",
       "    }\n",
       "</style>\n",
       "<table border=\"1\" class=\"dataframe\">\n",
       "  <thead>\n",
       "    <tr style=\"text-align: right;\">\n",
       "      <th></th>\n",
       "      <th>SHELF-LIFE</th>\n",
       "      <th>TREATMENT</th>\n",
       "      <th>NUM</th>\n",
       "      <th>FRESH MASS</th>\n",
       "      <th>L</th>\n",
       "      <th>C</th>\n",
       "      <th>H</th>\n",
       "      <th>FIRMNESS</th>\n",
       "      <th>LP</th>\n",
       "      <th>CP</th>\n",
       "      <th>HP</th>\n",
       "      <th>SST</th>\n",
       "      <th>TOTAL ACIDITY</th>\n",
       "      <th>DRY MASS</th>\n",
       "    </tr>\n",
       "  </thead>\n",
       "  <tbody>\n",
       "    <tr>\n",
       "      <th>492</th>\n",
       "      <td>1</td>\n",
       "      <td>T4</td>\n",
       "      <td>23</td>\n",
       "      <td>513.28</td>\n",
       "      <td>65.47</td>\n",
       "      <td>52.12</td>\n",
       "      <td>62.20</td>\n",
       "      <td>6.9</td>\n",
       "      <td>59.83</td>\n",
       "      <td>64.26</td>\n",
       "      <td>79.27</td>\n",
       "      <td>16.5</td>\n",
       "      <td>NaN</td>\n",
       "      <td>20.51</td>\n",
       "    </tr>\n",
       "    <tr>\n",
       "      <th>493</th>\n",
       "      <td>1</td>\n",
       "      <td>T4</td>\n",
       "      <td>24</td>\n",
       "      <td>513.28</td>\n",
       "      <td>71.87</td>\n",
       "      <td>56.41</td>\n",
       "      <td>78.29</td>\n",
       "      <td>13.8</td>\n",
       "      <td>66.32</td>\n",
       "      <td>67.88</td>\n",
       "      <td>79.67</td>\n",
       "      <td>16.2</td>\n",
       "      <td>NaN</td>\n",
       "      <td>19.98</td>\n",
       "    </tr>\n",
       "  </tbody>\n",
       "</table>\n",
       "</div>"
      ],
      "text/plain": [
       "    SHELF-LIFE TREATMENT  NUM  FRESH MASS      L      C      H  FIRMNESS  \\\n",
       "492          1        T4   23      513.28  65.47  52.12  62.20       6.9   \n",
       "493          1        T4   24      513.28  71.87  56.41  78.29      13.8   \n",
       "\n",
       "        LP     CP     HP   SST  TOTAL ACIDITY  DRY MASS  \n",
       "492  59.83  64.26  79.27  16.5            NaN     20.51  \n",
       "493  66.32  67.88  79.67  16.2            NaN     19.98  "
      ]
     },
     "execution_count": 29,
     "metadata": {},
     "output_type": "execute_result"
    }
   ],
   "source": [
    "qlt.iloc[492:494]"
   ]
  },
  {
   "cell_type": "code",
   "execution_count": 26,
   "metadata": {},
   "outputs": [
    {
     "data": {
      "text/html": [
       "<div>\n",
       "<style scoped>\n",
       "    .dataframe tbody tr th:only-of-type {\n",
       "        vertical-align: middle;\n",
       "    }\n",
       "\n",
       "    .dataframe tbody tr th {\n",
       "        vertical-align: top;\n",
       "    }\n",
       "\n",
       "    .dataframe thead th {\n",
       "        text-align: right;\n",
       "    }\n",
       "</style>\n",
       "<table border=\"1\" class=\"dataframe\">\n",
       "  <thead>\n",
       "    <tr style=\"text-align: right;\">\n",
       "      <th></th>\n",
       "      <th>SHELF-LIFE</th>\n",
       "      <th>TREATMENT</th>\n",
       "      <th>NUM</th>\n",
       "      <th>FRESH MASS</th>\n",
       "      <th>L</th>\n",
       "      <th>C</th>\n",
       "      <th>H</th>\n",
       "      <th>FIRMNESS</th>\n",
       "      <th>LP</th>\n",
       "      <th>CP</th>\n",
       "      <th>HP</th>\n",
       "      <th>SST</th>\n",
       "      <th>TOTAL ACIDITY</th>\n",
       "      <th>DRY MASS</th>\n",
       "    </tr>\n",
       "  </thead>\n",
       "  <tbody>\n",
       "    <tr>\n",
       "      <th>366</th>\n",
       "      <td>1</td>\n",
       "      <td>T6</td>\n",
       "      <td>9</td>\n",
       "      <td>584.40</td>\n",
       "      <td>59.95</td>\n",
       "      <td>53.83</td>\n",
       "      <td>53.55</td>\n",
       "      <td>13.8</td>\n",
       "      <td>53.15</td>\n",
       "      <td>51.41</td>\n",
       "      <td>78.85</td>\n",
       "      <td>14.7</td>\n",
       "      <td>NaN</td>\n",
       "      <td>18.35</td>\n",
       "    </tr>\n",
       "    <tr>\n",
       "      <th>367</th>\n",
       "      <td>1</td>\n",
       "      <td>T6</td>\n",
       "      <td>10</td>\n",
       "      <td>584.40</td>\n",
       "      <td>67.81</td>\n",
       "      <td>54.19</td>\n",
       "      <td>76.87</td>\n",
       "      <td>14.0</td>\n",
       "      <td>68.53</td>\n",
       "      <td>70.37</td>\n",
       "      <td>80.48</td>\n",
       "      <td>14.2</td>\n",
       "      <td>NaN</td>\n",
       "      <td>21.26</td>\n",
       "    </tr>\n",
       "    <tr>\n",
       "      <th>368</th>\n",
       "      <td>1</td>\n",
       "      <td>T6</td>\n",
       "      <td>11</td>\n",
       "      <td>506.02</td>\n",
       "      <td>69.63</td>\n",
       "      <td>52.93</td>\n",
       "      <td>80.45</td>\n",
       "      <td>10.0</td>\n",
       "      <td>69.08</td>\n",
       "      <td>68.45</td>\n",
       "      <td>82.12</td>\n",
       "      <td>10.9</td>\n",
       "      <td>NaN</td>\n",
       "      <td>17.43</td>\n",
       "    </tr>\n",
       "    <tr>\n",
       "      <th>369</th>\n",
       "      <td>1</td>\n",
       "      <td>T6</td>\n",
       "      <td>12</td>\n",
       "      <td>506.02</td>\n",
       "      <td>64.17</td>\n",
       "      <td>50.81</td>\n",
       "      <td>64.60</td>\n",
       "      <td>8.0</td>\n",
       "      <td>69.47</td>\n",
       "      <td>66.59</td>\n",
       "      <td>80.64</td>\n",
       "      <td>15.7</td>\n",
       "      <td>NaN</td>\n",
       "      <td>17.74</td>\n",
       "    </tr>\n",
       "  </tbody>\n",
       "</table>\n",
       "</div>"
      ],
      "text/plain": [
       "    SHELF-LIFE TREATMENT  NUM  FRESH MASS      L      C      H  FIRMNESS  \\\n",
       "366          1        T6    9      584.40  59.95  53.83  53.55      13.8   \n",
       "367          1        T6   10      584.40  67.81  54.19  76.87      14.0   \n",
       "368          1        T6   11      506.02  69.63  52.93  80.45      10.0   \n",
       "369          1        T6   12      506.02  64.17  50.81  64.60       8.0   \n",
       "\n",
       "        LP     CP     HP   SST  TOTAL ACIDITY  DRY MASS  \n",
       "366  53.15  51.41  78.85  14.7            NaN     18.35  \n",
       "367  68.53  70.37  80.48  14.2            NaN     21.26  \n",
       "368  69.08  68.45  82.12  10.9            NaN     17.43  \n",
       "369  69.47  66.59  80.64  15.7            NaN     17.74  "
      ]
     },
     "execution_count": 26,
     "metadata": {},
     "output_type": "execute_result"
    }
   ],
   "source": [
    "qlt.iloc[366:370]"
   ]
  },
  {
   "cell_type": "code",
   "execution_count": 78,
   "metadata": {},
   "outputs": [],
   "source": [
    "df.drop([660, 661], inplace=True)\n",
    "df.reset_index(drop=True, inplace=True)"
   ]
  },
  {
   "cell_type": "code",
   "execution_count": 79,
   "metadata": {},
   "outputs": [],
   "source": [
    "df.to_csv('../data/absorbance/treated_wo_incorrect.csv')"
   ]
  },
  {
   "cell_type": "markdown",
   "metadata": {},
   "source": [
    "# appending the quality data"
   ]
  },
  {
   "cell_type": "code",
   "execution_count": 12,
   "metadata": {},
   "outputs": [],
   "source": [
    "qlt = pd.read_csv('../data/quality/raw.csv')"
   ]
  },
  {
   "cell_type": "code",
   "execution_count": 13,
   "metadata": {},
   "outputs": [],
   "source": [
    "qlt.drop(columns=['LEVELS'], inplace=True)\n",
    "qlt['TREATMENT'] = qlt['TREATMENT'].apply(lambda x: str(x))\n",
    "qlt['SHELF-LIFE'] = qlt['SHELF-LIFE'].apply(lambda x: str(x))"
   ]
  },
  {
   "cell_type": "markdown",
   "metadata": {},
   "source": [
    "# removing wrong quality data"
   ]
  },
  {
   "cell_type": "code",
   "execution_count": 82,
   "metadata": {},
   "outputs": [
    {
     "name": "stderr",
     "output_type": "stream",
     "text": [
      "/home/danielesreis/.local/lib/python3.6/site-packages/ipykernel_launcher.py:3: UserWarning: Boolean Series key will be reindexed to match DataFrame index.\n",
      "  This is separate from the ipykernel package so we can avoid doing imports until\n"
     ]
    },
    {
     "data": {
      "text/html": [
       "<div>\n",
       "<style scoped>\n",
       "    .dataframe tbody tr th:only-of-type {\n",
       "        vertical-align: middle;\n",
       "    }\n",
       "\n",
       "    .dataframe tbody tr th {\n",
       "        vertical-align: top;\n",
       "    }\n",
       "\n",
       "    .dataframe thead th {\n",
       "        text-align: right;\n",
       "    }\n",
       "</style>\n",
       "<table border=\"1\" class=\"dataframe\">\n",
       "  <thead>\n",
       "    <tr style=\"text-align: right;\">\n",
       "      <th></th>\n",
       "      <th>SHELF-LIFE</th>\n",
       "      <th>TREATMENT</th>\n",
       "      <th>NUM</th>\n",
       "      <th>FRESH MASS</th>\n",
       "      <th>L</th>\n",
       "      <th>C</th>\n",
       "      <th>H</th>\n",
       "      <th>FIRMNESS</th>\n",
       "      <th>LP</th>\n",
       "      <th>CP</th>\n",
       "      <th>HP</th>\n",
       "      <th>SST</th>\n",
       "      <th>TOTAL ACIDITY</th>\n",
       "      <th>DRY MASS</th>\n",
       "    </tr>\n",
       "  </thead>\n",
       "  <tbody>\n",
       "    <tr>\n",
       "      <th>492</th>\n",
       "      <td>1</td>\n",
       "      <td>T4</td>\n",
       "      <td>23</td>\n",
       "      <td>513.28</td>\n",
       "      <td>65.47</td>\n",
       "      <td>52.12</td>\n",
       "      <td>62.20</td>\n",
       "      <td>6.9</td>\n",
       "      <td>59.83</td>\n",
       "      <td>64.26</td>\n",
       "      <td>79.27</td>\n",
       "      <td>16.5</td>\n",
       "      <td>NaN</td>\n",
       "      <td>20.51</td>\n",
       "    </tr>\n",
       "    <tr>\n",
       "      <th>493</th>\n",
       "      <td>1</td>\n",
       "      <td>T4</td>\n",
       "      <td>24</td>\n",
       "      <td>513.28</td>\n",
       "      <td>71.87</td>\n",
       "      <td>56.41</td>\n",
       "      <td>78.29</td>\n",
       "      <td>13.8</td>\n",
       "      <td>66.32</td>\n",
       "      <td>67.88</td>\n",
       "      <td>79.67</td>\n",
       "      <td>16.2</td>\n",
       "      <td>NaN</td>\n",
       "      <td>19.98</td>\n",
       "    </tr>\n",
       "  </tbody>\n",
       "</table>\n",
       "</div>"
      ],
      "text/plain": [
       "    SHELF-LIFE TREATMENT  NUM  FRESH MASS      L      C      H  FIRMNESS  \\\n",
       "492          1        T4   23      513.28  65.47  52.12  62.20       6.9   \n",
       "493          1        T4   24      513.28  71.87  56.41  78.29      13.8   \n",
       "\n",
       "        LP     CP     HP   SST  TOTAL ACIDITY  DRY MASS  \n",
       "492  59.83  64.26  79.27  16.5            NaN     20.51  \n",
       "493  66.32  67.88  79.67  16.2            NaN     19.98  "
      ]
     },
     "execution_count": 82,
     "metadata": {},
     "output_type": "execute_result"
    }
   ],
   "source": [
    "# removing from quality data bc there are 46 samples from felix and 48 from quality .csv. B3 is supposedly correct,\n",
    "# because it contains 24 felix samples, whereas there's 22 B1 samples. So, I'm gonna remove the last two from B1.\n",
    "qlt[qlt['TREATMENT']=='T4'][qlt['SHELF-LIFE']=='1'].iloc[22:24]"
   ]
  },
  {
   "cell_type": "code",
   "execution_count": 83,
   "metadata": {},
   "outputs": [],
   "source": [
    "qlt.drop([492, 493], inplace=True)\n",
    "qlt.reset_index(drop=True, inplace=True)"
   ]
  },
  {
   "cell_type": "code",
   "execution_count": 84,
   "metadata": {},
   "outputs": [],
   "source": [
    "qlt.to_csv('../data/quality/treated_wo_incorrect.csv')"
   ]
  },
  {
   "cell_type": "markdown",
   "metadata": {},
   "source": [
    "# indexing by treatment and shelf-life to allow assignment"
   ]
  },
  {
   "cell_type": "code",
   "execution_count": 113,
   "metadata": {},
   "outputs": [],
   "source": [
    "new_df = df.sort_values(by=['TREATMENT', 'SHELF-LIFE']).reset_index(drop=True)"
   ]
  },
  {
   "cell_type": "code",
   "execution_count": 114,
   "metadata": {},
   "outputs": [],
   "source": [
    "new_qlt = qlt.sort_values(by=['TREATMENT', 'SHELF-LIFE']).reset_index(drop=True)"
   ]
  },
  {
   "cell_type": "code",
   "execution_count": 115,
   "metadata": {},
   "outputs": [],
   "source": [
    "attrs = list(new_qlt.columns[3:].values)\n",
    "for att in attrs:\n",
    "    new_df[att] = new_qlt[att]"
   ]
  },
  {
   "cell_type": "code",
   "execution_count": null,
   "metadata": {},
   "outputs": [],
   "source": []
  },
  {
   "cell_type": "code",
   "execution_count": 119,
   "metadata": {},
   "outputs": [
    {
     "data": {
      "text/plain": [
       "(828, 320)"
      ]
     },
     "execution_count": 119,
     "metadata": {},
     "output_type": "execute_result"
    }
   ],
   "source": [
    "new_df.shape"
   ]
  },
  {
   "cell_type": "code",
   "execution_count": 118,
   "metadata": {},
   "outputs": [
    {
     "data": {
      "text/plain": [
       "Index(['288', '291', '294', '297', '300', '303', '306', '309', '312', '315',\n",
       "       ...\n",
       "       '1176', '1179', '1182', '1185', '1188', '1191', '1194', '1197', '1200',\n",
       "       'TREATMENT'],\n",
       "      dtype='object', length=306)"
      ]
     },
     "execution_count": 118,
     "metadata": {},
     "output_type": "execute_result"
    }
   ],
   "source": [
    "new_df.columns[1:307]"
   ]
  },
  {
   "cell_type": "code",
   "execution_count": 104,
   "metadata": {},
   "outputs": [],
   "source": [
    "cols = ['TREATMENT', 'BLOCK', 'SHELF-LIFE'] + attrs + list(new_df.columns[1:307].values)"
   ]
  },
  {
   "cell_type": "code",
   "execution_count": 111,
   "metadata": {},
   "outputs": [
    {
     "ename": "KeyError",
     "evalue": "\"['TREATMENT'] not in index\"",
     "output_type": "error",
     "traceback": [
      "\u001b[0;31m---------------------------------------------------------------------------\u001b[0m",
      "\u001b[0;31mKeyError\u001b[0m                                  Traceback (most recent call last)",
      "\u001b[0;32m<ipython-input-111-cb3ddb6be79a>\u001b[0m in \u001b[0;36m<module>\u001b[0;34m\u001b[0m\n\u001b[0;32m----> 1\u001b[0;31m \u001b[0mnew_df\u001b[0m \u001b[0;34m=\u001b[0m \u001b[0mnew_df\u001b[0m\u001b[0;34m[\u001b[0m\u001b[0mcols\u001b[0m\u001b[0;34m]\u001b[0m\u001b[0;34m\u001b[0m\u001b[0;34m\u001b[0m\u001b[0m\n\u001b[0m",
      "\u001b[0;32m~/.local/lib/python3.6/site-packages/pandas/core/frame.py\u001b[0m in \u001b[0;36m__getitem__\u001b[0;34m(self, key)\u001b[0m\n\u001b[1;32m   2932\u001b[0m                 \u001b[0mkey\u001b[0m \u001b[0;34m=\u001b[0m \u001b[0mlist\u001b[0m\u001b[0;34m(\u001b[0m\u001b[0mkey\u001b[0m\u001b[0;34m)\u001b[0m\u001b[0;34m\u001b[0m\u001b[0;34m\u001b[0m\u001b[0m\n\u001b[1;32m   2933\u001b[0m             indexer = self.loc._convert_to_indexer(key, axis=1,\n\u001b[0;32m-> 2934\u001b[0;31m                                                    raise_missing=True)\n\u001b[0m\u001b[1;32m   2935\u001b[0m \u001b[0;34m\u001b[0m\u001b[0m\n\u001b[1;32m   2936\u001b[0m         \u001b[0;31m# take() does not accept boolean indexers\u001b[0m\u001b[0;34m\u001b[0m\u001b[0;34m\u001b[0m\u001b[0;34m\u001b[0m\u001b[0m\n",
      "\u001b[0;32m~/.local/lib/python3.6/site-packages/pandas/core/indexing.py\u001b[0m in \u001b[0;36m_convert_to_indexer\u001b[0;34m(self, obj, axis, is_setter, raise_missing)\u001b[0m\n\u001b[1;32m   1352\u001b[0m                 kwargs = {'raise_missing': True if is_setter else\n\u001b[1;32m   1353\u001b[0m                           raise_missing}\n\u001b[0;32m-> 1354\u001b[0;31m                 \u001b[0;32mreturn\u001b[0m \u001b[0mself\u001b[0m\u001b[0;34m.\u001b[0m\u001b[0m_get_listlike_indexer\u001b[0m\u001b[0;34m(\u001b[0m\u001b[0mobj\u001b[0m\u001b[0;34m,\u001b[0m \u001b[0maxis\u001b[0m\u001b[0;34m,\u001b[0m \u001b[0;34m**\u001b[0m\u001b[0mkwargs\u001b[0m\u001b[0;34m)\u001b[0m\u001b[0;34m[\u001b[0m\u001b[0;36m1\u001b[0m\u001b[0;34m]\u001b[0m\u001b[0;34m\u001b[0m\u001b[0;34m\u001b[0m\u001b[0m\n\u001b[0m\u001b[1;32m   1355\u001b[0m         \u001b[0;32melse\u001b[0m\u001b[0;34m:\u001b[0m\u001b[0;34m\u001b[0m\u001b[0;34m\u001b[0m\u001b[0m\n\u001b[1;32m   1356\u001b[0m             \u001b[0;32mtry\u001b[0m\u001b[0;34m:\u001b[0m\u001b[0;34m\u001b[0m\u001b[0;34m\u001b[0m\u001b[0m\n",
      "\u001b[0;32m~/.local/lib/python3.6/site-packages/pandas/core/indexing.py\u001b[0m in \u001b[0;36m_get_listlike_indexer\u001b[0;34m(self, key, axis, raise_missing)\u001b[0m\n\u001b[1;32m   1159\u001b[0m         self._validate_read_indexer(keyarr, indexer,\n\u001b[1;32m   1160\u001b[0m                                     \u001b[0mo\u001b[0m\u001b[0;34m.\u001b[0m\u001b[0m_get_axis_number\u001b[0m\u001b[0;34m(\u001b[0m\u001b[0maxis\u001b[0m\u001b[0;34m)\u001b[0m\u001b[0;34m,\u001b[0m\u001b[0;34m\u001b[0m\u001b[0;34m\u001b[0m\u001b[0m\n\u001b[0;32m-> 1161\u001b[0;31m                                     raise_missing=raise_missing)\n\u001b[0m\u001b[1;32m   1162\u001b[0m         \u001b[0;32mreturn\u001b[0m \u001b[0mkeyarr\u001b[0m\u001b[0;34m,\u001b[0m \u001b[0mindexer\u001b[0m\u001b[0;34m\u001b[0m\u001b[0;34m\u001b[0m\u001b[0m\n\u001b[1;32m   1163\u001b[0m \u001b[0;34m\u001b[0m\u001b[0m\n",
      "\u001b[0;32m~/.local/lib/python3.6/site-packages/pandas/core/indexing.py\u001b[0m in \u001b[0;36m_validate_read_indexer\u001b[0;34m(self, key, indexer, axis, raise_missing)\u001b[0m\n\u001b[1;32m   1250\u001b[0m             \u001b[0;32mif\u001b[0m \u001b[0;32mnot\u001b[0m\u001b[0;34m(\u001b[0m\u001b[0mself\u001b[0m\u001b[0;34m.\u001b[0m\u001b[0mname\u001b[0m \u001b[0;34m==\u001b[0m \u001b[0;34m'loc'\u001b[0m \u001b[0;32mand\u001b[0m \u001b[0;32mnot\u001b[0m \u001b[0mraise_missing\u001b[0m\u001b[0;34m)\u001b[0m\u001b[0;34m:\u001b[0m\u001b[0;34m\u001b[0m\u001b[0;34m\u001b[0m\u001b[0m\n\u001b[1;32m   1251\u001b[0m                 \u001b[0mnot_found\u001b[0m \u001b[0;34m=\u001b[0m \u001b[0mlist\u001b[0m\u001b[0;34m(\u001b[0m\u001b[0mset\u001b[0m\u001b[0;34m(\u001b[0m\u001b[0mkey\u001b[0m\u001b[0;34m)\u001b[0m \u001b[0;34m-\u001b[0m \u001b[0mset\u001b[0m\u001b[0;34m(\u001b[0m\u001b[0max\u001b[0m\u001b[0;34m)\u001b[0m\u001b[0;34m)\u001b[0m\u001b[0;34m\u001b[0m\u001b[0;34m\u001b[0m\u001b[0m\n\u001b[0;32m-> 1252\u001b[0;31m                 \u001b[0;32mraise\u001b[0m \u001b[0mKeyError\u001b[0m\u001b[0;34m(\u001b[0m\u001b[0;34m\"{} not in index\"\u001b[0m\u001b[0;34m.\u001b[0m\u001b[0mformat\u001b[0m\u001b[0;34m(\u001b[0m\u001b[0mnot_found\u001b[0m\u001b[0;34m)\u001b[0m\u001b[0;34m)\u001b[0m\u001b[0;34m\u001b[0m\u001b[0;34m\u001b[0m\u001b[0m\n\u001b[0m\u001b[1;32m   1253\u001b[0m \u001b[0;34m\u001b[0m\u001b[0m\n\u001b[1;32m   1254\u001b[0m             \u001b[0;31m# we skip the warning on Categorical/Interval\u001b[0m\u001b[0;34m\u001b[0m\u001b[0;34m\u001b[0m\u001b[0;34m\u001b[0m\u001b[0m\n",
      "\u001b[0;31mKeyError\u001b[0m: \"['TREATMENT'] not in index\""
     ]
    }
   ],
   "source": [
    "new_df = new_df[cols]"
   ]
  },
  {
   "cell_type": "code",
   "execution_count": 109,
   "metadata": {},
   "outputs": [],
   "source": [
    "new_df.set_index('TREATMENT', inplace=True)"
   ]
  },
  {
   "cell_type": "code",
   "execution_count": 27,
   "metadata": {},
   "outputs": [],
   "source": [
    "new_df.to_csv('../data/final/data_final.csv')"
   ]
  },
  {
   "cell_type": "code",
   "execution_count": null,
   "metadata": {},
   "outputs": [],
   "source": []
  }
 ],
 "metadata": {
  "kernelspec": {
   "display_name": "Python 3",
   "language": "python",
   "name": "python3"
  },
  "language_info": {
   "codemirror_mode": {
    "name": "ipython",
    "version": 3
   },
   "file_extension": ".py",
   "mimetype": "text/x-python",
   "name": "python",
   "nbconvert_exporter": "python",
   "pygments_lexer": "ipython3",
   "version": "3.6.7"
  }
 },
 "nbformat": 4,
 "nbformat_minor": 2
}
